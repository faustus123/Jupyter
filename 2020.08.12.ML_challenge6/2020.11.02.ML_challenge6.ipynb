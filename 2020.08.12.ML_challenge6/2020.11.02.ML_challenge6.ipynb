{
 "cells": [
  {
   "cell_type": "markdown",
   "metadata": {},
   "source": [
    "# ML Challenge Problem 6 Part 6\n",
    "\n",
    "Here I combine two models trained on the GPUs. The first predicts the pedestal, amplitude, and time for single pulse waveforms. The second predicts the number of pulses in the waveform. The second model is used to mask the results of the first so that the outputs will be identically A=0,t=-1 when no pulse is present. When it determines two pulses are present, it uses the results from the one pulse model to set the values of the first pulse and sets constant values of A=240 and t=40 for the second pulse. (Those values obtained from eyeballing the histograms of A2,t2 values for double pulse waveforms in the training set).\n",
    "\n",
    "The first part of this notebook creates the hybrid model and then uses it to make predictions for training set. These are saved in the file *\"model_pred_lawrence.csv\"*. The second part uses the model to make predictions for the test set which is used for judging. These are saved in the file *\"model_pred_lawrence_test_set.csv\"*. Some plots of waveforms corresponding to different model predictions are shown at the bottom."
   ]
  },
  {
   "cell_type": "code",
   "execution_count": 1,
   "metadata": {},
   "outputs": [
    {
     "name": "stdout",
     "output_type": "stream",
     "text": [
      "Number of waveforms: 190071\n"
     ]
    }
   ],
   "source": [
    "# Read the full data file into a dataframe\n",
    "# This file does not have a header so we define the column names here explicitly\n",
    "\n",
    "import pandas as pd\n",
    "import numpy as np\n",
    "\n",
    "TRAIN_FILE  = '/home/davidl/work2/2020.08.12.ML_challenge6/Aug_2020_ML_train.csv'\n",
    "\n",
    "# Columns in input file. First 5 are labels\n",
    "names = ['ped', 'A1', 'A2', 't1', 't2']\n",
    "\n",
    "# Next 128 are features (waveform)\n",
    "for i in range(0,128): names.append('s%03d' % i)\n",
    "\n",
    "# Read file and print how many waveforms are found\n",
    "df = pd.read_csv(TRAIN_FILE, names=names)\n",
    "print('Number of waveforms: %d' % len(df.index))"
   ]
  },
  {
   "cell_type": "markdown",
   "metadata": {},
   "source": [
    "### Load pre-trained models"
   ]
  },
  {
   "cell_type": "code",
   "execution_count": 2,
   "metadata": {},
   "outputs": [
    {
     "name": "stderr",
     "output_type": "stream",
     "text": [
      "Matplotlib created a temporary config/cache directory at /tmp/matplotlib-ts5gh_mx because the default path (/home/jovyan/.cache/matplotlib) is not a writable directory; it is highly recommended to set the MPLCONFIGDIR environment variable to a writable directory, in particular to speed up the import of Matplotlib and to better support multiprocessing.\n"
     ]
    }
   ],
   "source": [
    "from tensorflow.keras.models import load_model\n",
    "from tensorflow.keras.models import Model\n",
    "from tensorflow.keras.layers import Dense, Reshape, Flatten, Input, Lambda, Conv1D, Concatenate\n",
    "from tensorflow.keras.optimizers import SGD, Adamax, Adadelta, Adam\n",
    "from tensorflow.keras.callbacks import Callback, TensorBoard\n",
    "import tensorflow.keras.backend as K\n",
    "import tensorflow.keras.losses\n",
    "import tensorflow as tf\n",
    "import matplotlib.pyplot as plt\n",
    "\n",
    "model_one_pulse = load_model('final_models/one_pulse_001')\n",
    "model_Npulses = load_model('final_models/npulses_001')"
   ]
  },
  {
   "cell_type": "markdown",
   "metadata": {},
   "source": [
    "### Define Final Model"
   ]
  },
  {
   "cell_type": "code",
   "execution_count": 3,
   "metadata": {},
   "outputs": [
    {
     "name": "stdout",
     "output_type": "stream",
     "text": [
      "mask:Tensor(\"seminal_values/Round:0\", shape=(None, 3), dtype=float32)\n",
      "mask1:Tensor(\"seminal_values/add:0\", shape=(None,), dtype=float32)\n",
      "mask2:Tensor(\"seminal_values/strided_slice_3:0\", shape=(None,), dtype=float32)\n",
      "mask[:,2]:Tensor(\"seminal_values/strided_slice_4:0\", shape=(None,), dtype=float32)\n",
      "A1_out: Tensor(\"seminal_values/mul:0\", shape=(None,), dtype=float32)\n",
      "tmp: Tensor(\"seminal_values/mul_4:0\", shape=(None,), dtype=float32)\n",
      "Model: \"functional_1\"\n",
      "__________________________________________________________________________________________________\n",
      "Layer (type)                    Output Shape         Param #     Connected to                     \n",
      "==================================================================================================\n",
      "waveform (InputLayer)           [(None, 128, 1)]     0                                            \n",
      "__________________________________________________________________________________________________\n",
      "time_conv1 (Conv1D)             (None, 97, 128)      4224        waveform[0][0]                   \n",
      "__________________________________________________________________________________________________\n",
      "ped_conv1 (Conv1D)              (None, 97, 128)      4224        waveform[0][0]                   \n",
      "__________________________________________________________________________________________________\n",
      "time_conv2 (Conv1D)             (None, 82, 16)       32784       time_conv1[0][0]                 \n",
      "__________________________________________________________________________________________________\n",
      "time_max (Lambda)               (None, 132, 1)       0           waveform[0][0]                   \n",
      "__________________________________________________________________________________________________\n",
      "ped_conv2 (Conv1D)              (None, 90, 32)       32800       ped_conv1[0][0]                  \n",
      "__________________________________________________________________________________________________\n",
      "time_flatten (Flatten)          (None, 1312)         0           time_conv2[0][0]                 \n",
      "__________________________________________________________________________________________________\n",
      "reshape (Reshape)               (None, 132)          0           time_max[0][0]                   \n",
      "__________________________________________________________________________________________________\n",
      "ped_flatten1 (Flatten)          (None, 2880)         0           ped_conv2[0][0]                  \n",
      "__________________________________________________________________________________________________\n",
      "lambda (Lambda)                 (None, 1)            0           waveform[0][0]                   \n",
      "__________________________________________________________________________________________________\n",
      "concatenate_1 (Concatenate)     (None, 1444)         0           time_flatten[0][0]               \n",
      "                                                                 reshape[0][0]                    \n",
      "__________________________________________________________________________________________________\n",
      "concatenate (Concatenate)       (None, 2881)         0           ped_flatten1[0][0]               \n",
      "                                                                 lambda[0][0]                     \n",
      "__________________________________________________________________________________________________\n",
      "time_layer2 (Dense)             (None, 64)           92480       concatenate_1[0][0]              \n",
      "__________________________________________________________________________________________________\n",
      "ped_layer2 (Dense)              (None, 64)           184448      concatenate[0][0]                \n",
      "__________________________________________________________________________________________________\n",
      "amp_conv1 (Conv1D)              (None, 113, 128)     2176        waveform[0][0]                   \n",
      "__________________________________________________________________________________________________\n",
      "time_layer3 (Dense)             (None, 32)           2080        time_layer2[0][0]                \n",
      "__________________________________________________________________________________________________\n",
      "ped_layer3 (Dense)              (None, 32)           2080        ped_layer2[0][0]                 \n",
      "__________________________________________________________________________________________________\n",
      "amp_flatten (Flatten)           (None, 14464)        0           amp_conv1[0][0]                  \n",
      "__________________________________________________________________________________________________\n",
      "time_layer4 (Dense)             (None, 64)           2112        time_layer3[0][0]                \n",
      "__________________________________________________________________________________________________\n",
      "ped_layer4 (Dense)              (None, 16)           528         ped_layer3[0][0]                 \n",
      "__________________________________________________________________________________________________\n",
      "amp_layer2 (Dense)              (None, 16)           231440      amp_flatten[0][0]                \n",
      "__________________________________________________________________________________________________\n",
      "time_layer5 (Dense)             (None, 16)           1040        time_layer4[0][0]                \n",
      "__________________________________________________________________________________________________\n",
      "ped_output (Dense)              (None, 1)            17          ped_layer4[0][0]                 \n",
      "__________________________________________________________________________________________________\n",
      "amp_output (Dense)              (None, 1)            17          amp_layer2[0][0]                 \n",
      "__________________________________________________________________________________________________\n",
      "time_output (Dense)             (None, 1)            17          time_layer5[0][0]                \n",
      "==================================================================================================\n",
      "Total params: 592,467\n",
      "Trainable params: 592,467\n",
      "Non-trainable params: 0\n",
      "__________________________________________________________________________________________________\n",
      "Model: \"functional_3\"\n",
      "__________________________________________________________________________________________________\n",
      "Layer (type)                    Output Shape         Param #     Connected to                     \n",
      "==================================================================================================\n",
      "waveform (InputLayer)           [(None, 128, 1)]     0                                            \n",
      "__________________________________________________________________________________________________\n",
      "Npulse_conv_layer1 (Conv1D)     (None, 97, 128)      4224        waveform[0][0]                   \n",
      "__________________________________________________________________________________________________\n",
      "Npulse_conv_layer2 (Conv1D)     (None, 82, 32)       65568       Npulse_conv_layer1[0][0]         \n",
      "__________________________________________________________________________________________________\n",
      "Npulse_conv_layer3 (Conv1D)     (None, 79, 32)       4128        Npulse_conv_layer2[0][0]         \n",
      "__________________________________________________________________________________________________\n",
      "Npulse_flatten (Flatten)        (None, 2528)         0           Npulse_conv_layer3[0][0]         \n",
      "__________________________________________________________________________________________________\n",
      "Npulse_layer1 (Dense)           (None, 32)           80928       Npulse_flatten[0][0]             \n",
      "__________________________________________________________________________________________________\n",
      "Npulse_layer2a (Dense)          (None, 64)           2112        Npulse_layer1[0][0]              \n",
      "__________________________________________________________________________________________________\n",
      "Npulse_layer2b (Dense)          (None, 64)           2112        Npulse_layer1[0][0]              \n",
      "__________________________________________________________________________________________________\n",
      "concatenate (Concatenate)       (None, 128)          0           Npulse_layer2a[0][0]             \n",
      "                                                                 Npulse_layer2b[0][0]             \n",
      "__________________________________________________________________________________________________\n",
      "Npulse_layer3 (Dense)           (None, 32)           4128        concatenate[0][0]                \n",
      "__________________________________________________________________________________________________\n",
      "Npulse_layer4 (Dense)           (None, 32)           1056        Npulse_layer3[0][0]              \n",
      "__________________________________________________________________________________________________\n",
      "Npulse_layer5 (Dense)           (None, 8)            264         Npulse_layer4[0][0]              \n",
      "__________________________________________________________________________________________________\n",
      "Npulse_output (Dense)           (None, 3)            27          Npulse_layer5[0][0]              \n",
      "==================================================================================================\n",
      "Total params: 164,547\n",
      "Trainable params: 164,547\n",
      "Non-trainable params: 0\n",
      "__________________________________________________________________________________________________\n",
      "Model: \"functional_1\"\n",
      "__________________________________________________________________________________________________\n",
      "Layer (type)                    Output Shape         Param #     Connected to                     \n",
      "==================================================================================================\n",
      "waveform (InputLayer)           [(None, 128, 1)]     0                                            \n",
      "__________________________________________________________________________________________________\n",
      "functional_3 (Functional)       (None, 3)            164547      waveform[0][0]                   \n",
      "__________________________________________________________________________________________________\n",
      "functional_1 (Functional)       [(None, 1), (None, 1 592467      waveform[0][0]                   \n",
      "__________________________________________________________________________________________________\n",
      "concatenate_layer1 (Concatenate (None, 6)            0           functional_3[0][0]               \n",
      "                                                                 functional_1[0][0]               \n",
      "                                                                 functional_1[0][1]               \n",
      "                                                                 functional_1[0][2]               \n",
      "__________________________________________________________________________________________________\n",
      "seminal_values (Lambda)         (None, 4)            0           concatenate_layer1[0][0]         \n",
      "==================================================================================================\n",
      "Total params: 757,014\n",
      "Trainable params: 757,014\n",
      "Non-trainable params: 0\n",
      "__________________________________________________________________________________________________\n"
     ]
    }
   ],
   "source": [
    "# Used by Lambda function to coherse A1,t1 and A2,t2 into\n",
    "# 0,-1 if number of indentified pulses indicates no pulse\n",
    "def SeminalValues(inputs):\n",
    "    A2_avg = 240.0\n",
    "    t2_avg = 40.0\n",
    "\n",
    "    mask = K.round(inputs[:,:3]) # one hot vector of 3 indicating whether there are zero(1,0,0), one(0,1,0), or two(0,0,1) pulses\n",
    "    mask1  = mask[:,1] + mask[:,2] # Set A1,t1 if either 1 or 2 pulse waveform\n",
    "    mask2  = mask[:,2]             # Set A2,t2 only if 2 pulse waveform\n",
    "    print('mask:' + str(mask))\n",
    "    print('mask1:' + str(mask1))\n",
    "    print('mask2:' + str(mask2))\n",
    "    print('mask[:,2]:' + str(mask[:,2]))\n",
    "\n",
    "    A1_out = inputs[:,4]*mask1\n",
    "    t1_out = inputs[:,5]*mask1 - (1-mask1)\n",
    "    A2_out = A2_avg*mask2\n",
    "    t2_out = t2_avg*mask2 - (1-mask2)\n",
    "\n",
    "    tmp = inputs[:,4]*mask[:,1]\n",
    "    print('A1_out: ' + str(A1_out))\n",
    "    print('tmp: ' + str(tmp))\n",
    "    \n",
    "    A1_out = K.expand_dims(A1_out)\n",
    "    A2_out = K.expand_dims(A2_out)\n",
    "    t1_out = K.expand_dims(t1_out)\n",
    "    t2_out = K.expand_dims(t2_out)\n",
    "\n",
    "    outputs = K.concatenate([A1_out,A2_out,t1_out,t2_out])\n",
    "    return outputs\n",
    "\n",
    "\n",
    "# Define the final model using two pre-trained models an\n",
    "# a Lambda layer coherse into final format\n",
    "NINPUTS = 128\n",
    "\n",
    "inputs          = Input(shape=(NINPUTS,1), name='waveform')\n",
    "x_pulse_classes = model_Npulses(inputs)\n",
    "x_pulse_values  = model_one_pulse(inputs)\n",
    "x               = Concatenate(name='concatenate_layer1')([x_pulse_classes] + x_pulse_values)\n",
    "outputs         = Lambda(SeminalValues, name='seminal_values')(x)\n",
    "\n",
    "model  = Model(inputs=inputs, outputs=outputs)\n",
    "model.compile(loss='mse', optimizer=Adam(), metrics=['mae', 'mse'])\n",
    "\n",
    "model_one_pulse.summary()\n",
    "model_Npulses.summary()\n",
    "model.summary()"
   ]
  },
  {
   "cell_type": "markdown",
   "metadata": {},
   "source": [
    "### Create prediction using original training file\n",
    "\n",
    "Here I create an output file in the format requested for the POTQ6 using the original training file. I did this originally and point Kishan to it so he could test it with his script for scoring models. "
   ]
  },
  {
   "cell_type": "code",
   "execution_count": 4,
   "metadata": {},
   "outputs": [
    {
     "name": "stdout",
     "output_type": "stream",
     "text": [
      "mask:Tensor(\"functional_1/seminal_values/Round:0\", shape=(None, 3), dtype=float32)\n",
      "mask1:Tensor(\"functional_1/seminal_values/add:0\", shape=(None,), dtype=float32)\n",
      "mask2:Tensor(\"functional_1/seminal_values/strided_slice_3:0\", shape=(None,), dtype=float32)\n",
      "mask[:,2]:Tensor(\"functional_1/seminal_values/strided_slice_4:0\", shape=(None,), dtype=float32)\n",
      "A1_out: Tensor(\"functional_1/seminal_values/mul:0\", shape=(None,), dtype=float32)\n",
      "tmp: Tensor(\"functional_1/seminal_values/mul_4:0\", shape=(None,), dtype=float32)\n"
     ]
    }
   ],
   "source": [
    "mydf = df\n",
    "y_labels = mydf.iloc[:,:5].to_numpy()\n",
    "x_waveform = mydf.iloc[:,5:133]\n",
    "\n",
    "y_pred = model.predict(x_waveform)\n",
    "outdf = pd.DataFrame(y_pred, columns=['A1','A2','t1','t2'])\n",
    "outdf.to_csv('model_pred_lawrence.csv', index=False)"
   ]
  },
  {
   "cell_type": "markdown",
   "metadata": {},
   "source": [
    "## Create Predictions for final TEST set\n",
    "\n",
    "Here I create a prediction file for the final test set of the POTQ6. "
   ]
  },
  {
   "cell_type": "code",
   "execution_count": 5,
   "metadata": {},
   "outputs": [
    {
     "name": "stdout",
     "output_type": "stream",
     "text": [
      "Number of waveforms in TEST: 26077\n",
      "Number of waveforms in TEST output: 26077\n"
     ]
    }
   ],
   "source": [
    "\n",
    "TEST_FILE  = '/home/davidl/work2/2020.08.12.ML_challenge6/Nov_2020_ML_Test_SET.csv'\n",
    "\n",
    "# Only 128 samples representing waveforms in this file\n",
    "names = []\n",
    "for i in range(0,128): names.append('s%03d' % i)\n",
    "\n",
    "# Read file and print how many waveforms are found\n",
    "testdf = pd.read_csv(TEST_FILE, names=names)\n",
    "print('Number of waveforms in TEST: %d' % len(testdf.index))\n",
    "\n",
    "mydf = testdf\n",
    "x_test_waveform = mydf.iloc[:,:128]\n",
    "\n",
    "y_test_pred = model.predict(x_test_waveform)\n",
    "outtestdf = pd.DataFrame(y_test_pred, columns=['A1','A2','t1','t2'])\n",
    "outtestdf.to_csv('model_pred_lawrence_test_set.csv', index=False)\n",
    "print('Number of waveforms in TEST output: %d' % len(outtestdf.index))"
   ]
  },
  {
   "cell_type": "markdown",
   "metadata": {},
   "source": [
    "## Plot Test set predictions"
   ]
  },
  {
   "cell_type": "code",
   "execution_count": 6,
   "metadata": {},
   "outputs": [
    {
     "name": "stdout",
     "output_type": "stream",
     "text": [
      "                   Num. total: 26077\n",
      "             Num. zero pulses: 16981\n",
      "           Num. with A1 pulse: 9094\n",
      "           Num. with A2 pulse: 138\n",
      "Num. with A1 but not A2 pulse: 8958\n",
      "Num. with A2 but not A1 pulse: 2\n"
     ]
    },
    {
     "data": {
      "text/html": [
       "<div>\n",
       "<style scoped>\n",
       "    .dataframe tbody tr th:only-of-type {\n",
       "        vertical-align: middle;\n",
       "    }\n",
       "\n",
       "    .dataframe tbody tr th {\n",
       "        vertical-align: top;\n",
       "    }\n",
       "\n",
       "    .dataframe thead th {\n",
       "        text-align: right;\n",
       "    }\n",
       "</style>\n",
       "<table border=\"1\" class=\"dataframe\">\n",
       "  <thead>\n",
       "    <tr style=\"text-align: right;\">\n",
       "      <th></th>\n",
       "      <th>A1</th>\n",
       "      <th>A2</th>\n",
       "      <th>t1</th>\n",
       "      <th>t2</th>\n",
       "    </tr>\n",
       "  </thead>\n",
       "  <tbody>\n",
       "    <tr>\n",
       "      <th>10763</th>\n",
       "      <td>0.0</td>\n",
       "      <td>240.0</td>\n",
       "      <td>57.804714</td>\n",
       "      <td>40.0</td>\n",
       "    </tr>\n",
       "    <tr>\n",
       "      <th>20849</th>\n",
       "      <td>0.0</td>\n",
       "      <td>240.0</td>\n",
       "      <td>32.429077</td>\n",
       "      <td>40.0</td>\n",
       "    </tr>\n",
       "  </tbody>\n",
       "</table>\n",
       "</div>"
      ],
      "text/plain": [
       "        A1     A2         t1    t2\n",
       "10763  0.0  240.0  57.804714  40.0\n",
       "20849  0.0  240.0  32.429077  40.0"
      ]
     },
     "execution_count": 6,
     "metadata": {},
     "output_type": "execute_result"
    },
    {
     "data": {
      "image/png": "[encoded data removed]",
      "text/plain": [
       "<Figure size 1440x180 with 4 Axes>"
      ]
     },
     "metadata": {
      "needs_background": "light"
     },
     "output_type": "display_data"
    },
    {
     "data": {
      "image/png": "[encoded data removed]",
      "text/plain": [
       "<Figure size 1440x180 with 4 Axes>"
      ]
     },
     "metadata": {
      "needs_background": "light"
     },
     "output_type": "display_data"
    }
   ],
   "source": [
    "import matplotlib.pyplot as plt\n",
    "\n",
    "# Plot all labels with default axes and no cuts\n",
    "h = outtestdf.hist(column=['A1','A2','t1','t2'], bins=100, figsize=(20.0,2.5), layout=(1,4))\n",
    "\n",
    "# Plot with zeros suppressed\n",
    "fig, ax = plt.subplots(1,4, figsize=(20,2.5))\n",
    "\n",
    "testdfA1 = outtestdf[outtestdf.A1 != 0]\n",
    "testdfA1.hist(ax=ax[0], column=['A1'], bins=np.linspace(0.0, 2000.0, 100), color='green')\n",
    "\n",
    "testdfA2 = outtestdf[outtestdf.A2 != 0]\n",
    "testdfA2.hist(ax=ax[1], column=['A2'], bins=np.linspace(0.0, 2000.0, 100), color='magenta')\n",
    "\n",
    "testdft1 = outtestdf[outtestdf.t1 >= 0]\n",
    "testdft1.hist(ax=ax[2], column=['t1'], bins=np.linspace(0.0, 68.0, 100), color='blue')\n",
    "\n",
    "testdft2 = outtestdf[outtestdf.t2 >= 0]\n",
    "testdft2.hist(ax=ax[3], column=['t2'], bins=np.linspace(0.0, 80.5, 100), color='blue')\n",
    "\n",
    "testdfno_pulses = outtestdf[(outtestdf.A1==0) & (outtestdf.A2==0)]\n",
    "testdfA1_not_A2 = outtestdf[(outtestdf.A1!=0) & (outtestdf.A2==0)]\n",
    "testdfA2_not_A1 = outtestdf[(outtestdf.A1==0) & (outtestdf.A2!=0)]\n",
    "\n",
    "Ntot = len(testdf)\n",
    "NA1  = len(testdfA1)\n",
    "NA2  = len(testdfA2)\n",
    "Nnone= len(testdfno_pulses)\n",
    "NA1_not_A2 = len(testdfA1_not_A2)\n",
    "NA2_not_A1 = len(testdfA2_not_A1)\n",
    "\n",
    "print('                   Num. total: %d' % Ntot)\n",
    "print('             Num. zero pulses: %d' % Nnone)\n",
    "print('           Num. with A1 pulse: %d' % NA1)\n",
    "print('           Num. with A2 pulse: %d' % NA2)\n",
    "print('Num. with A1 but not A2 pulse: %d' % NA1_not_A2)\n",
    "print('Num. with A2 but not A1 pulse: %d' % NA2_not_A1)\n",
    "\n",
    "testdfA2_not_A1.head()"
   ]
  },
  {
   "cell_type": "markdown",
   "metadata": {},
   "source": [
    "### Some odd waveforms"
   ]
  },
  {
   "cell_type": "code",
   "execution_count": 8,
   "metadata": {},
   "outputs": [
    {
     "data": {
      "text/html": [
       "<table bordercolor=\"yellow\"><tr><td colspan=\"8\" bgcolor=\"yellow\" style=\"text-align:left\"><font color=\"black\">nopulse:Model identified no pulses in waveform</font></td></tr><tr><td><img style='width: 128px; margin: 2px; border: 1px solid blue;' src='nopulse_/nopulse_waveform_000000.png' /></td><td><img style='width: 128px; margin: 2px; border: 1px solid blue;' src='nopulse_/nopulse_waveform_000001.png' /></td><td><img style='width: 128px; margin: 2px; border: 1px solid blue;' src='nopulse_/nopulse_waveform_000002.png' /></td><td><img style='width: 128px; margin: 2px; border: 1px solid blue;' src='nopulse_/nopulse_waveform_000003.png' /></td><td><img style='width: 128px; margin: 2px; border: 1px solid blue;' src='nopulse_/nopulse_waveform_000004.png' /></td><td><img style='width: 128px; margin: 2px; border: 1px solid blue;' src='nopulse_/nopulse_waveform_000005.png' /></td><td><img style='width: 128px; margin: 2px; border: 1px solid blue;' src='nopulse_/nopulse_waveform_000006.png' /></td><td><img style='width: 128px; margin: 2px; border: 1px solid blue;' src='nopulse_/nopulse_waveform_000007.png' /></td></tr></table>"
      ],
      "text/plain": [
       "<IPython.core.display.HTML object>"
      ]
     },
     "metadata": {},
     "output_type": "display_data"
    },
    {
     "data": {
      "text/html": [
       "<table bordercolor=\"yellow\"><tr><td colspan=\"8\" bgcolor=\"yellow\" style=\"text-align:left\"><font color=\"black\">A1_not_A2:Model identified one pulse in waveform</font></td></tr><tr><td><img style='width: 128px; margin: 2px; border: 1px solid blue;' src='A1_not_A2_/A1_not_A2_waveform_000000.png' /></td><td><img style='width: 128px; margin: 2px; border: 1px solid blue;' src='A1_not_A2_/A1_not_A2_waveform_000001.png' /></td><td><img style='width: 128px; margin: 2px; border: 1px solid blue;' src='A1_not_A2_/A1_not_A2_waveform_000002.png' /></td><td><img style='width: 128px; margin: 2px; border: 1px solid blue;' src='A1_not_A2_/A1_not_A2_waveform_000003.png' /></td><td><img style='width: 128px; margin: 2px; border: 1px solid blue;' src='A1_not_A2_/A1_not_A2_waveform_000004.png' /></td><td><img style='width: 128px; margin: 2px; border: 1px solid blue;' src='A1_not_A2_/A1_not_A2_waveform_000005.png' /></td><td><img style='width: 128px; margin: 2px; border: 1px solid blue;' src='A1_not_A2_/A1_not_A2_waveform_000006.png' /></td><td><img style='width: 128px; margin: 2px; border: 1px solid blue;' src='A1_not_A2_/A1_not_A2_waveform_000007.png' /></td></tr></table>"
      ],
      "text/plain": [
       "<IPython.core.display.HTML object>"
      ]
     },
     "metadata": {},
     "output_type": "display_data"
    },
    {
     "data": {
      "text/html": [
       "<table bordercolor=\"yellow\"><tr><td colspan=\"8\" bgcolor=\"yellow\" style=\"text-align:left\"><font color=\"black\">A2:Model identified two pulses in waveform</font></td></tr><tr><td><img style='width: 128px; margin: 2px; border: 1px solid blue;' src='A2_/A2_waveform_000000.png' /></td><td><img style='width: 128px; margin: 2px; border: 1px solid blue;' src='A2_/A2_waveform_000001.png' /></td><td><img style='width: 128px; margin: 2px; border: 1px solid blue;' src='A2_/A2_waveform_000002.png' /></td><td><img style='width: 128px; margin: 2px; border: 1px solid blue;' src='A2_/A2_waveform_000003.png' /></td><td><img style='width: 128px; margin: 2px; border: 1px solid blue;' src='A2_/A2_waveform_000004.png' /></td><td><img style='width: 128px; margin: 2px; border: 1px solid blue;' src='A2_/A2_waveform_000005.png' /></td><td><img style='width: 128px; margin: 2px; border: 1px solid blue;' src='A2_/A2_waveform_000006.png' /></td><td><img style='width: 128px; margin: 2px; border: 1px solid blue;' src='A2_/A2_waveform_000007.png' /></td></tr></table>"
      ],
      "text/plain": [
       "<IPython.core.display.HTML object>"
      ]
     },
     "metadata": {},
     "output_type": "display_data"
    },
    {
     "data": {
      "text/html": [
       "<table bordercolor=\"yellow\"><tr><td colspan=\"2\" bgcolor=\"yellow\" style=\"text-align:left\"><font color=\"black\">A2_not_A1:Model identified two pulses in waveform, but second amplitude of first was zero (???)</font></td></tr><tr><td><img style='width: 128px; margin: 2px; border: 1px solid blue;' src='A2_not_A1_/A2_not_A1_waveform_000000.png' /></td><td><img style='width: 128px; margin: 2px; border: 1px solid blue;' src='A2_not_A1_/A2_not_A1_waveform_000001.png' /></td></tr></table>"
      ],
      "text/plain": [
       "<IPython.core.display.HTML object>"
      ]
     },
     "metadata": {},
     "output_type": "display_data"
    }
   ],
   "source": [
    "from IPython.display import Image, HTML, display\n",
    "import png\n",
    "import os\n",
    "\n",
    "# Generate one PNG image file for the specified entry and dataframe.\n",
    "# The drawlines option can set whether to draw lines between points.\n",
    "# The prefix value will be prepended on the outpout filenames.\n",
    "def MakeImage(irow, drawlines=False, waveforms=None, prefix='', dirname='.'):\n",
    "    row = waveforms[irow]\n",
    "    \n",
    "    width  = 128\n",
    "    height = 128+100\n",
    "    img = []\n",
    "    for y in range(height):\n",
    "        r = [255]*width\n",
    "        img.append(r)\n",
    "\n",
    "    for icol in range(width):\n",
    "        yval = int((100-int(row[icol]))/8)  # For positive pulses: height - (100-int(row[icol]))\n",
    "        yval = min(height-1, max(0, yval))\n",
    "        img[yval][icol] = 0\n",
    "        \n",
    "        # Optionally draw lines between the dots\n",
    "        if drawlines:\n",
    "            if icol>0 :\n",
    "                ymid = (int)((yval + last_yval)/2)\n",
    "                ylo = min(last_yval, ymid)\n",
    "                yhi = max(last_yval, ymid)\n",
    "                for ylin in range(ylo, yhi): img[ylin][icol-1] = 0\n",
    "                ylo = min(ymid, yval)\n",
    "                yhi = max(ymid, yval)\n",
    "                for ylin in range(ylo, yhi): img[ylin][icol-1] = 0\n",
    "            last_yval = yval\n",
    "    fname = prefix+'waveform_%06d.png' % irow\n",
    "    if dirname != '.':\n",
    "        try:\n",
    "            os.makedirs(dirname)\n",
    "        except:\n",
    "            pass  # assume excpetion is because it already exists\n",
    "        fname = os.path.join(dirname, fname)\n",
    "    with open(fname, 'wb') as f:    \n",
    "        w = png.Writer(width, height, greyscale=True)\n",
    "        w.write(f, img)\n",
    "        #print('Wrote file: ' + fname)\n",
    "    return fname\n",
    "\n",
    "# Generate PNG files for several waveforms and then return an HTML string that displays\n",
    "# them all on one row.\n",
    "def MakeHTML(waveforms, Nentries=8, offset=0, prefix='', dirname='.', drawlines=True, mess=''):\n",
    "    pngimages = [MakeImage(e+offset, drawlines=drawlines, waveforms=waveforms, prefix=prefix, dirname=dirname) for e in range(Nentries)]\n",
    "    imgs_html = []\n",
    "    for fname in pngimages:\n",
    "        imgs_html.append(\"<img style='width: 128px; margin: 2px; border: 1px solid blue;' src='%s' />\" % fname)\n",
    "\n",
    "    html = '<table bordercolor=\"yellow\">'\n",
    "    html += '<tr><td colspan=\"%d\" bgcolor=\"yellow\" style=\"text-align:left\"><font color=\"black\">%s:%s</font></td></tr>' % (Nentries, prefix[:-1],mess)\n",
    "    html += \"<tr>\"\n",
    "    for a in imgs_html: html += '<td>' + a + '</td>'\n",
    "    html += \"</tr></table>\"\n",
    "    return html\n",
    "\n",
    "# Create PNG files\n",
    "# NOTE: These have the amplitudes reduced by a factor of 8 to give them better aspect ratios\n",
    "waveforms = x_test_waveform.iloc[testdfno_pulses.index.to_list()].to_numpy()\n",
    "display( HTML(MakeHTML(waveforms, prefix='nopulse_', dirname='nopulse_', Nentries=8, mess='Model identified no pulses in waveform')) )\n",
    "\n",
    "waveforms = x_test_waveform.iloc[testdfA1_not_A2.index.to_list()].to_numpy()\n",
    "display( HTML(MakeHTML(waveforms, prefix='A1_not_A2_', dirname='A1_not_A2_', Nentries=8, mess='Model identified one pulse in waveform')) )\n",
    "\n",
    "waveforms = x_test_waveform.iloc[testdfA2.index.to_list()].to_numpy()\n",
    "display( HTML(MakeHTML(waveforms, prefix='A2_', dirname='A2_', Nentries=8, mess='Model identified two pulses in waveform')) )\n",
    "\n",
    "waveforms = x_test_waveform.iloc[testdfA2_not_A1.index.to_list()].to_numpy()\n",
    "display( HTML(MakeHTML(waveforms, prefix='A2_not_A1_', dirname='A2_not_A1_', Nentries=2, mess='Model identified two pulses in waveform, but second amplitude of first was zero (???)')) )"
   ]
  },
  {
   "cell_type": "code",
   "execution_count": null,
   "metadata": {},
   "outputs": [],
   "source": []
  }
 ],
 "metadata": {
  "kernelspec": {
   "display_name": "venv_2020.10.13.tf2.3.1",
   "language": "python",
   "name": "venv_2020.10.13.tf2.3.1"
  },
  "language_info": {
   "codemirror_mode": {
    "name": "ipython",
    "version": 3
   },
   "file_extension": ".py",
   "mimetype": "text/x-python",
   "name": "python",
   "nbconvert_exporter": "python",
   "pygments_lexer": "ipython3",
   "version": "3.7.3"
  }
 },
 "nbformat": 4,
 "nbformat_minor": 4
}
