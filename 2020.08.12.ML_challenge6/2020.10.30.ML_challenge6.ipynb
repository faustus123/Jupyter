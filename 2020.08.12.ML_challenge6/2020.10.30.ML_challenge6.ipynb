{
 "cells": [
  {
   "cell_type": "markdown",
   "metadata": {},
   "source": [
    "# ML Challenge Problem 6 Part 5\n",
    "\n",
    "In this notebook I decided to try straight up calculating the pedestal vsalues by just averaging all samples that lie within a band around zero. This should cut out the majority of any actual pulses or noise. Th thinking is that this could be a pretty accurate estimate that when fed to a model with the waveform itself, would allow the model to focus solely on calculating a correction.\n",
    "\n",
    "The first thing to do (as always) is read in the data."
   ]
  },
  {
   "cell_type": "code",
   "execution_count": 1,
   "metadata": {},
   "outputs": [
    {
     "name": "stdout",
     "output_type": "stream",
     "text": [
      "Number of waveforms: 190071\n"
     ]
    }
   ],
   "source": [
    "# Read the full data file into a dataframe\n",
    "# This file does not have a header so we define the column names here explicitly\n",
    "\n",
    "import pandas as pd\n",
    "import numpy as np\n",
    "\n",
    "TRAIN_FILE  = '/home/davidl/work2/2020.08.12.ML_challenge6/Aug_2020_ML_train.csv'\n",
    "\n",
    "# Columns in input file. First 5 are labels\n",
    "names = ['ped', 'A1', 'A2', 't1', 't2']\n",
    "\n",
    "# Next 128 are features (waveform)\n",
    "for i in range(0,128): names.append('s%03d' % i)\n",
    "\n",
    "# Read file and print how many waveforms are found\n",
    "df = pd.read_csv(TRAIN_FILE, names=names)\n",
    "print('Number of waveforms: %d' % len(df.index))"
   ]
  },
  {
   "cell_type": "markdown",
   "metadata": {},
   "source": [
    "### Define non-trainable Model\n",
    "\n",
    "Here I define a model with a single Lambda layer. It calls the CalcPed procedure which calculates the average for all samples within the specified band. Since there are no trainable parameters, I don't need to fit the model. I can simply predict with it and compare the results with the labels."
   ]
  },
  {
   "cell_type": "code",
   "execution_count": 2,
   "metadata": {},
   "outputs": [
    {
     "name": "stderr",
     "output_type": "stream",
     "text": [
      "Matplotlib created a temporary config/cache directory at /tmp/matplotlib-vczedisu because the default path (/home/jovyan/.cache/matplotlib) is not a writable directory; it is highly recommended to set the MPLCONFIGDIR environment variable to a writable directory, in particular to speed up the import of Matplotlib and to better support multiprocessing.\n"
     ]
    },
    {
     "name": "stdout",
     "output_type": "stream",
     "text": [
      "Model: \"functional_1\"\n",
      "_________________________________________________________________\n",
      "Layer (type)                 Output Shape              Param #   \n",
      "=================================================================\n",
      "waveform (InputLayer)        [(None, 128, 1)]          0         \n",
      "_________________________________________________________________\n",
      "lambda (Lambda)              (None, 1, 1)              0         \n",
      "_________________________________________________________________\n",
      "reshape (Reshape)            (None, 1)                 0         \n",
      "=================================================================\n",
      "Total params: 0\n",
      "Trainable params: 0\n",
      "Non-trainable params: 0\n",
      "_________________________________________________________________\n"
     ]
    }
   ],
   "source": [
    "from tensorflow.keras.models import load_model\n",
    "from tensorflow.keras.models import Model\n",
    "from tensorflow.keras.layers import Dense, Reshape, Flatten, Input, Lambda, Conv1D\n",
    "from tensorflow.keras.optimizers import SGD, Adamax, Adadelta, Adam\n",
    "from tensorflow.keras.callbacks import Callback, TensorBoard\n",
    "import tensorflow.keras.backend as K\n",
    "import tensorflow.keras.losses\n",
    "import tensorflow as tf\n",
    "import matplotlib.pyplot as plt\n",
    "\n",
    "NINPUTS = 128\n",
    "\n",
    "#-----------------------------------------------------\n",
    "# CalcPed\n",
    "#-----------------------------------------------------\n",
    "def CalcPed(inputs, vmin=-30.0, vmax=100.0):\n",
    "    \n",
    "    # Calculate mask of values in the inputs that fall between the minimum and maximum\n",
    "    min_mask = vmin*K.ones_like(inputs)\n",
    "    min_mask = K.cast_to_floatx(K.greater(inputs, min_mask))\n",
    "    max_mask = vmax*K.ones_like(inputs)\n",
    "    max_mask = K.cast_to_floatx(K.less(inputs, max_mask))\n",
    "\n",
    "    # Combine upper and lower limit masks into single mask of values to average and apply\n",
    "    mask = min_mask*max_mask\n",
    "    sparse_waveforms = inputs * mask\n",
    "\n",
    "    # Find average of elements not filtered by mask\n",
    "    Nvals = K.sum(mask, axis=1)\n",
    "    Sum = K.sum(sparse_waveforms, axis=1)\n",
    "    \n",
    "    avg = tf.math.divide_no_nan(Sum, Nvals)\n",
    "    ped = K.expand_dims(avg)\n",
    "    \n",
    "    return -ped   # minus sign  is because waveform is sign inverted\n",
    "\n",
    "#-----------------------------------------------------\n",
    "# DefineModel\n",
    "#-----------------------------------------------------\n",
    "# This is used to define the model. It is only called if no model\n",
    "# file is found in the model_checkpoints directory.\n",
    "def DefineModel():\n",
    "    \n",
    "    vmin = -100\n",
    "    vmax = 15\n",
    "\n",
    "    inputs  = Input(shape=(NINPUTS,1), name='waveform')\n",
    "    x = Lambda(CalcPed, arguments={'vmin':vmin, 'vmax':vmax})(inputs)\n",
    "    outputs = Reshape((1,))(x)\n",
    "\n",
    "    model   = Model(inputs=inputs, outputs=outputs)\n",
    "    model.compile(loss='mse', optimizer=Adam(), metrics=['mae', 'mse'])\n",
    "\n",
    "    return model\n",
    "\n",
    "model = DefineModel()\n",
    "model.summary()"
   ]
  },
  {
   "cell_type": "markdown",
   "metadata": {},
   "source": [
    "### Test Calculation Model\n",
    "\n",
    "Here I use the model to calculate the pedestal and compare it to the labels. I make 2 histograms. The one on the left to show the difference between predicted and truth. The one on the right to show sample values. The one on the right gives me an idea of where to place the cuts on the waveform for samples to include in the average.\n",
    "\n",
    "In the end, I played with the cuts empirically to try and minimize the rms."
   ]
  },
  {
   "cell_type": "code",
   "execution_count": 3,
   "metadata": {},
   "outputs": [
    {
     "data": {
      "image/png": "[encoded data removed]",
      "text/plain": [
       "<Figure size 1440x360 with 2 Axes>"
      ]
     },
     "metadata": {
      "needs_background": "light"
     },
     "output_type": "display_data"
    },
    {
     "name": "stdout",
     "output_type": "stream",
     "text": [
      "mean: -0.269164   rms: 3.469881\n"
     ]
    }
   ],
   "source": [
    "# Test model\n",
    "mydf = df\n",
    "y_labels = mydf.loc[:,['ped']].to_numpy()\n",
    "x_waveform = mydf.iloc[:,5:133].mul(-1)\n",
    "\n",
    "y_pred = model.predict(x_waveform)\n",
    "\n",
    "y_diff = np.squeeze(y_pred - y_labels)\n",
    "\n",
    "fig,ax = plt.subplots(1,2, figsize=(20,5))\n",
    "ax[0].hist(y_diff, range=(-20.0,20.0), bins=200)\n",
    "ax[0].grid()\n",
    "ax[0].set_title('Pedestal Prediction Error')\n",
    "ax[0].set_xlabel('ped (model - truth)')\n",
    "\n",
    "x_waveform_sample = np.reshape(x_waveform[:1000].to_numpy(), (128000,))\n",
    "ax[1].hist(x_waveform_sample, range=(-40.0,40.0), bins=81)\n",
    "ax[1].grid()\n",
    "ax[1].set_title('Waveform Sample Values')\n",
    "ax[1].set_xlabel('samples')\n",
    "\n",
    "plt.show()\n",
    "\n",
    "# Calculate rms and mean\n",
    "mean = np.mean(y_diff)\n",
    "rms = np.sqrt(np.mean(y_diff**2))\n",
    "print('mean: %f   rms: %f' % (mean,rms))"
   ]
  },
  {
   "cell_type": "markdown",
   "metadata": {},
   "source": [
    "# Predicting Number of pulses\n",
    "\n",
    "One of the criteria of the problem was to acurrately predict the number of pulses in the waveform. Here I want to train a model that does just that. The first thing I will need though is a column in the dataframe that has this value.\n",
    "\n"
   ]
  },
  {
   "cell_type": "code",
   "execution_count": 4,
   "metadata": {},
   "outputs": [
    {
     "name": "stdout",
     "output_type": "stream",
     "text": [
      "Number 0, 1, and 2 pulse waveforms: [126000  63000   1071]\n"
     ]
    }
   ],
   "source": [
    "vA1 = df['A1'].to_numpy()\n",
    "vA2 = df['A2'].to_numpy()\n",
    "Npulses = 1*(vA1>0.) + 1*(vA2>0.)\n",
    "unique, counts = np.unique(Npulses, return_counts=True)\n",
    "print('Number 0, 1, and 2 pulse waveforms: ' + str(counts))\n",
    "\n",
    "# Add column with number of pulses\n",
    "df['Npulses'] = Npulses\n",
    "\n",
    "# Make slices containing only 0,1,2 identified pulses\n",
    "dfno_pulses = df[(df.A1==0) & (df.A2==0)]\n",
    "dfone_pulse = df[(df.A1!=0) & (df.A2==0)]\n",
    "dftwo_pulse = df[(df.A1!=0) & (df.A2!=0)]\n"
   ]
  },
  {
   "cell_type": "markdown",
   "metadata": {},
   "source": [
    "### Define model"
   ]
  },
  {
   "cell_type": "code",
   "execution_count": 34,
   "metadata": {},
   "outputs": [
    {
     "name": "stdout",
     "output_type": "stream",
     "text": [
      "Model: \"functional_35\"\n",
      "_________________________________________________________________\n",
      "Layer (type)                 Output Shape              Param #   \n",
      "=================================================================\n",
      "waveform (InputLayer)        [(None, 128, 1)]          0         \n",
      "_________________________________________________________________\n",
      "Npulse_conv_layer1 (Conv1D)  (None, 97, 128)           4224      \n",
      "_________________________________________________________________\n",
      "Npulse_conv_layer2 (Conv1D)  (None, 82, 32)            65568     \n",
      "_________________________________________________________________\n",
      "Npulse_conv_layer3 (Conv1D)  (None, 79, 32)            4128      \n",
      "_________________________________________________________________\n",
      "Npulse_flatten (Flatten)     (None, 2528)              0         \n",
      "_________________________________________________________________\n",
      "Npulse_layer1 (Dense)        (None, 32)                80928     \n",
      "_________________________________________________________________\n",
      "Npulse_layer2 (Dense)        (None, 64)                2112      \n",
      "_________________________________________________________________\n",
      "Npulse_layer3 (Dense)        (None, 32)                2080      \n",
      "_________________________________________________________________\n",
      "Npulse_layer4 (Dense)        (None, 32)                1056      \n",
      "_________________________________________________________________\n",
      "Npulse_layer5 (Dense)        (None, 8)                 264       \n",
      "_________________________________________________________________\n",
      "Npulse_output (Dense)        (None, 3)                 27        \n",
      "=================================================================\n",
      "Total params: 160,387\n",
      "Trainable params: 160,387\n",
      "Non-trainable params: 0\n",
      "_________________________________________________________________\n"
     ]
    }
   ],
   "source": [
    "from tensorflow.keras.models import Model\n",
    "from tensorflow.keras.layers import Dense, Reshape, Flatten, Input, Lambda, Conv1D\n",
    "from tensorflow.keras.optimizers import SGD, Adamax, Adadelta\n",
    "from tensorflow.keras.callbacks import Callback, TensorBoard\n",
    "import tensorflow.keras.backend as K\n",
    "import tensorflow.keras.losses\n",
    "import tensorflow as tf\n",
    "\n",
    "def customLoss(y_true, y_pred):\n",
    "    y_diff = K.round(y_pred) - y_true\n",
    "    y_loss = y_diff*y_diff\n",
    "    return y_loss\n",
    "\n",
    "inputs     = Input(shape=(NINPUTS,1), name='waveform')\n",
    "x = Conv1D(128,(32), name='Npulse_conv_layer1', activation='tanh')(inputs)\n",
    "x = Conv1D(32,(16), name='Npulse_conv_layer2', activation='tanh')(x)\n",
    "x = Conv1D(32,(4), name='Npulse_conv_layer3', activation='relu')(x)\n",
    "x = Flatten(name='Npulse_flatten')(x)\n",
    "x = Dense(32, name='Npulse_layer1', activation='linear')(x)\n",
    "x = Dense(64, name='Npulse_layer2', activation='tanh')(x)\n",
    "x = Dense(32, name='Npulse_layer3', activation='linear')(x)\n",
    "x = Dense(32, name='Npulse_layer4', activation='tanh')(x)\n",
    "x = Dense(8, name='Npulse_layer5', activation='linear')(x)\n",
    "outputs = Dense(3, name='Npulse_output', activation='softmax')(x)\n",
    "\n",
    "model = Model(inputs=inputs, outputs=outputs)\n",
    "model.summary()\n",
    "\n",
    "#opt = Adam()\n",
    "opt = Adadelta(clipnorm=1, learning_rate=0.002, rho=0.98)\n",
    "model.compile(loss='categorical_crossentropy', optimizer=opt, metrics=['accuracy'], weighted_metrics=['accuracy'])"
   ]
  },
  {
   "cell_type": "markdown",
   "metadata": {},
   "source": [
    "### Fit Model"
   ]
  },
  {
   "cell_type": "code",
   "execution_count": 35,
   "metadata": {},
   "outputs": [
    {
     "name": "stdout",
     "output_type": "stream",
     "text": [
      "class_weight: {0: 1.5085, 1: 3.017, 2: 177.47058823529412}\n",
      "Epoch 1/100\n",
      "38014/38014 [==============================] - 253s 7ms/step - loss: 5.2960 - accuracy: 0.9780 - weighted_accuracy: 0.6533 - val_loss: 0.0545 - val_accuracy: 0.9893 - val_weighted_accuracy: 0.9893\n",
      "Epoch 2/100\n",
      "38014/38014 [==============================] - 254s 7ms/step - loss: 5.6057 - accuracy: 0.9896 - weighted_accuracy: 0.6622 - val_loss: 0.0538 - val_accuracy: 0.9898 - val_weighted_accuracy: 0.9898\n",
      "Epoch 3/100\n",
      "38014/38014 [==============================] - 254s 7ms/step - loss: 5.4317 - accuracy: 0.9899 - weighted_accuracy: 0.6625 - val_loss: 0.0511 - val_accuracy: 0.9900 - val_weighted_accuracy: 0.9900\n",
      "Epoch 4/100\n",
      "38014/38014 [==============================] - 235s 6ms/step - loss: 5.1997 - accuracy: 0.9901 - weighted_accuracy: 0.6627 - val_loss: 0.0500 - val_accuracy: 0.9902 - val_weighted_accuracy: 0.9902\n",
      "Epoch 5/100\n",
      "38014/38014 [==============================] - 252s 7ms/step - loss: 5.0092 - accuracy: 0.9903 - weighted_accuracy: 0.6629 - val_loss: 0.0478 - val_accuracy: 0.9903 - val_weighted_accuracy: 0.9903\n",
      "Epoch 6/100\n",
      "38014/38014 [==============================] - 251s 7ms/step - loss: 4.8362 - accuracy: 0.9903 - weighted_accuracy: 0.6629 - val_loss: 0.0479 - val_accuracy: 0.9903 - val_weighted_accuracy: 0.9903\n",
      "Epoch 7/100\n",
      "38014/38014 [==============================] - 235s 6ms/step - loss: 4.6578 - accuracy: 0.9904 - weighted_accuracy: 0.6630 - val_loss: 0.0471 - val_accuracy: 0.9905 - val_weighted_accuracy: 0.9905\n",
      "Epoch 8/100\n",
      "38014/38014 [==============================] - 220s 6ms/step - loss: 4.5159 - accuracy: 0.9905 - weighted_accuracy: 0.6638 - val_loss: 0.0459 - val_accuracy: 0.9905 - val_weighted_accuracy: 0.9905\n",
      "Epoch 9/100\n",
      "38014/38014 [==============================] - 219s 6ms/step - loss: 4.3635 - accuracy: 0.9905 - weighted_accuracy: 0.6650 - val_loss: 0.0453 - val_accuracy: 0.9904 - val_weighted_accuracy: 0.9904\n",
      "Epoch 10/100\n",
      "38014/38014 [==============================] - 219s 6ms/step - loss: 4.2825 - accuracy: 0.9906 - weighted_accuracy: 0.6697 - val_loss: 0.0454 - val_accuracy: 0.9906 - val_weighted_accuracy: 0.9906\n",
      "Epoch 11/100\n",
      "38014/38014 [==============================] - 236s 6ms/step - loss: 4.1518 - accuracy: 0.9908 - weighted_accuracy: 0.6775 - val_loss: 0.0436 - val_accuracy: 0.9907 - val_weighted_accuracy: 0.9907\n",
      "Epoch 12/100\n",
      "38014/38014 [==============================] - 237s 6ms/step - loss: 3.9520 - accuracy: 0.9910 - weighted_accuracy: 0.6910 - val_loss: 0.0440 - val_accuracy: 0.9906 - val_weighted_accuracy: 0.9906\n",
      "Epoch 13/100\n",
      "38014/38014 [==============================] - 220s 6ms/step - loss: 3.8519 - accuracy: 0.9911 - weighted_accuracy: 0.6988 - val_loss: 0.0423 - val_accuracy: 0.9908 - val_weighted_accuracy: 0.9908\n",
      "Epoch 14/100\n",
      "38014/38014 [==============================] - 219s 6ms/step - loss: 3.7891 - accuracy: 0.9912 - weighted_accuracy: 0.7042 - val_loss: 0.0424 - val_accuracy: 0.9906 - val_weighted_accuracy: 0.9906\n",
      "Epoch 15/100\n",
      "38014/38014 [==============================] - 218s 6ms/step - loss: 3.7419 - accuracy: 0.9914 - weighted_accuracy: 0.7120 - val_loss: 0.0424 - val_accuracy: 0.9908 - val_weighted_accuracy: 0.9908\n",
      "Epoch 16/100\n",
      "38014/38014 [==============================] - 214s 6ms/step - loss: 3.7480 - accuracy: 0.9914 - weighted_accuracy: 0.7120 - val_loss: 0.0410 - val_accuracy: 0.9910 - val_weighted_accuracy: 0.9910\n",
      "Epoch 17/100\n",
      "38014/38014 [==============================] - 230s 6ms/step - loss: 3.6724 - accuracy: 0.9916 - weighted_accuracy: 0.7210 - val_loss: 0.0409 - val_accuracy: 0.9911 - val_weighted_accuracy: 0.9911\n",
      "Epoch 18/100\n",
      "38014/38014 [==============================] - 230s 6ms/step - loss: 3.6203 - accuracy: 0.9916 - weighted_accuracy: 0.7240 - val_loss: 0.0407 - val_accuracy: 0.9913 - val_weighted_accuracy: 0.9913\n",
      "Epoch 19/100\n",
      "38014/38014 [==============================] - 214s 6ms/step - loss: 3.6225 - accuracy: 0.9917 - weighted_accuracy: 0.7245 - val_loss: 0.0405 - val_accuracy: 0.9912 - val_weighted_accuracy: 0.9912\n",
      "Epoch 20/100\n",
      "38014/38014 [==============================] - 231s 6ms/step - loss: 3.5618 - accuracy: 0.9918 - weighted_accuracy: 0.7299 - val_loss: 0.0407 - val_accuracy: 0.9913 - val_weighted_accuracy: 0.9913\n",
      "Epoch 21/100\n",
      "38014/38014 [==============================] - 231s 6ms/step - loss: 3.5014 - accuracy: 0.9918 - weighted_accuracy: 0.7318 - val_loss: 0.0413 - val_accuracy: 0.9913 - val_weighted_accuracy: 0.9913\n",
      "Epoch 22/100\n",
      "38014/38014 [==============================] - 226s 6ms/step - loss: 3.4736 - accuracy: 0.9919 - weighted_accuracy: 0.7369 - val_loss: 0.0402 - val_accuracy: 0.9912 - val_weighted_accuracy: 0.9912\n",
      "Epoch 23/100\n",
      "38014/38014 [==============================] - 227s 6ms/step - loss: 3.4261 - accuracy: 0.9920 - weighted_accuracy: 0.7427 - val_loss: 0.0399 - val_accuracy: 0.9912 - val_weighted_accuracy: 0.9912\n",
      "Epoch 24/100\n",
      "38014/38014 [==============================] - 230s 6ms/step - loss: 3.3370 - accuracy: 0.9920 - weighted_accuracy: 0.7473 - val_loss: 0.0395 - val_accuracy: 0.9914 - val_weighted_accuracy: 0.9914\n",
      "Epoch 25/100\n",
      "38014/38014 [==============================] - 214s 6ms/step - loss: 3.2589 - accuracy: 0.9921 - weighted_accuracy: 0.7493 - val_loss: 0.0395 - val_accuracy: 0.9913 - val_weighted_accuracy: 0.9913\n",
      "Epoch 26/100\n",
      "38014/38014 [==============================] - 230s 6ms/step - loss: 3.1225 - accuracy: 0.9921 - weighted_accuracy: 0.7596 - val_loss: 0.0392 - val_accuracy: 0.9914 - val_weighted_accuracy: 0.9914\n",
      "Epoch 27/100\n",
      "38014/38014 [==============================] - 232s 6ms/step - loss: 3.0665 - accuracy: 0.9922 - weighted_accuracy: 0.7662 - val_loss: 0.0385 - val_accuracy: 0.9913 - val_weighted_accuracy: 0.9913\n",
      "Epoch 28/100\n",
      "38014/38014 [==============================] - 233s 6ms/step - loss: 2.9936 - accuracy: 0.9924 - weighted_accuracy: 0.7713 - val_loss: 0.0373 - val_accuracy: 0.9915 - val_weighted_accuracy: 0.9915\n",
      "Epoch 29/100\n",
      "38014/38014 [==============================] - 230s 6ms/step - loss: 2.9161 - accuracy: 0.9924 - weighted_accuracy: 0.7771 - val_loss: 0.0368 - val_accuracy: 0.9915 - val_weighted_accuracy: 0.9915\n",
      "Epoch 30/100\n",
      "38014/38014 [==============================] - 230s 6ms/step - loss: 2.8161 - accuracy: 0.9925 - weighted_accuracy: 0.7817 - val_loss: 0.0376 - val_accuracy: 0.9916 - val_weighted_accuracy: 0.9916\n",
      "Epoch 31/100\n",
      "38014/38014 [==============================] - 230s 6ms/step - loss: 2.8009 - accuracy: 0.9925 - weighted_accuracy: 0.7844 - val_loss: 0.0366 - val_accuracy: 0.9915 - val_weighted_accuracy: 0.9915\n",
      "Epoch 32/100\n",
      "38014/38014 [==============================] - 231s 6ms/step - loss: 2.7403 - accuracy: 0.9926 - weighted_accuracy: 0.7913 - val_loss: 0.0362 - val_accuracy: 0.9916 - val_weighted_accuracy: 0.9916\n",
      "Epoch 33/100\n",
      "38014/38014 [==============================] - 232s 6ms/step - loss: 2.7332 - accuracy: 0.9926 - weighted_accuracy: 0.7906 - val_loss: 0.0364 - val_accuracy: 0.9916 - val_weighted_accuracy: 0.9916\n",
      "Epoch 34/100\n",
      "38014/38014 [==============================] - 232s 6ms/step - loss: 2.6917 - accuracy: 0.9927 - weighted_accuracy: 0.7956 - val_loss: 0.0370 - val_accuracy: 0.9915 - val_weighted_accuracy: 0.9915\n",
      "Epoch 35/100\n",
      "38014/38014 [==============================] - 231s 6ms/step - loss: 2.6573 - accuracy: 0.9928 - weighted_accuracy: 0.8011 - val_loss: 0.0374 - val_accuracy: 0.9914 - val_weighted_accuracy: 0.9914\n",
      "Epoch 36/100\n",
      "38014/38014 [==============================] - 226s 6ms/step - loss: 2.5953 - accuracy: 0.9928 - weighted_accuracy: 0.8056 - val_loss: 0.0369 - val_accuracy: 0.9917 - val_weighted_accuracy: 0.9917\n",
      "Epoch 37/100\n",
      "38014/38014 [==============================] - 225s 6ms/step - loss: 2.5253 - accuracy: 0.9929 - weighted_accuracy: 0.8107 - val_loss: 0.0361 - val_accuracy: 0.9920 - val_weighted_accuracy: 0.9920\n",
      "Epoch 38/100\n",
      "38014/38014 [==============================] - 230s 6ms/step - loss: 2.4738 - accuracy: 0.9930 - weighted_accuracy: 0.8142 - val_loss: 0.0366 - val_accuracy: 0.9918 - val_weighted_accuracy: 0.9918\n",
      "Epoch 39/100\n",
      "38014/38014 [==============================] - 230s 6ms/step - loss: 2.4018 - accuracy: 0.9931 - weighted_accuracy: 0.8208 - val_loss: 0.0359 - val_accuracy: 0.9921 - val_weighted_accuracy: 0.9921\n",
      "Epoch 40/100\n",
      "38014/38014 [==============================] - 230s 6ms/step - loss: 2.3692 - accuracy: 0.9932 - weighted_accuracy: 0.8251 - val_loss: 0.0354 - val_accuracy: 0.9923 - val_weighted_accuracy: 0.9923\n",
      "Epoch 41/100\n",
      "38014/38014 [==============================] - 232s 6ms/step - loss: 2.3082 - accuracy: 0.9932 - weighted_accuracy: 0.8301 - val_loss: 0.0355 - val_accuracy: 0.9923 - val_weighted_accuracy: 0.9923\n",
      "Epoch 42/100\n",
      "38014/38014 [==============================] - 228s 6ms/step - loss: 2.2932 - accuracy: 0.9932 - weighted_accuracy: 0.8320 - val_loss: 0.0363 - val_accuracy: 0.9924 - val_weighted_accuracy: 0.9924\n",
      "Epoch 43/100\n",
      "38014/38014 [==============================] - 228s 6ms/step - loss: 2.2921 - accuracy: 0.9933 - weighted_accuracy: 0.8317 - val_loss: 0.0358 - val_accuracy: 0.9924 - val_weighted_accuracy: 0.9924\n",
      "Epoch 44/100\n",
      "38014/38014 [==============================] - 232s 6ms/step - loss: 2.2598 - accuracy: 0.9933 - weighted_accuracy: 0.8351 - val_loss: 0.0360 - val_accuracy: 0.9924 - val_weighted_accuracy: 0.9924\n",
      "Epoch 45/100\n",
      "38014/38014 [==============================] - 229s 6ms/step - loss: 2.2543 - accuracy: 0.9932 - weighted_accuracy: 0.8324 - val_loss: 0.0362 - val_accuracy: 0.9925 - val_weighted_accuracy: 0.9925\n",
      "Epoch 46/100\n",
      "38014/38014 [==============================] - 252s 7ms/step - loss: 2.2538 - accuracy: 0.9932 - weighted_accuracy: 0.8328 - val_loss: 0.0367 - val_accuracy: 0.9925 - val_weighted_accuracy: 0.9925\n",
      "Epoch 47/100\n",
      "38014/38014 [==============================] - 254s 7ms/step - loss: 2.2705 - accuracy: 0.9934 - weighted_accuracy: 0.8363 - val_loss: 0.0361 - val_accuracy: 0.9925 - val_weighted_accuracy: 0.9925\n",
      "Epoch 48/100\n",
      "38014/38014 [==============================] - 255s 7ms/step - loss: 2.2400 - accuracy: 0.9934 - weighted_accuracy: 0.8382 - val_loss: 0.0364 - val_accuracy: 0.9924 - val_weighted_accuracy: 0.9924\n",
      "Epoch 49/100\n",
      "38014/38014 [==============================] - 243s 6ms/step - loss: 2.1768 - accuracy: 0.9934 - weighted_accuracy: 0.8436 - val_loss: 0.0364 - val_accuracy: 0.9925 - val_weighted_accuracy: 0.9925\n",
      "Epoch 50/100\n",
      "38014/38014 [==============================] - 240s 6ms/step - loss: 2.2600 - accuracy: 0.9934 - weighted_accuracy: 0.8379 - val_loss: 0.0355 - val_accuracy: 0.9928 - val_weighted_accuracy: 0.9928\n",
      "Epoch 51/100\n",
      "38014/38014 [==============================] - 243s 6ms/step - loss: 2.2055 - accuracy: 0.9935 - weighted_accuracy: 0.8417 - val_loss: 0.0352 - val_accuracy: 0.9927 - val_weighted_accuracy: 0.9927\n",
      "Epoch 52/100\n",
      "38014/38014 [==============================] - 243s 6ms/step - loss: 2.1360 - accuracy: 0.9935 - weighted_accuracy: 0.8471 - val_loss: 0.0353 - val_accuracy: 0.9928 - val_weighted_accuracy: 0.9928\n",
      "Epoch 53/100\n",
      "38014/38014 [==============================] - 243s 6ms/step - loss: 2.1240 - accuracy: 0.9935 - weighted_accuracy: 0.8436 - val_loss: 0.0357 - val_accuracy: 0.9928 - val_weighted_accuracy: 0.9928\n",
      "Epoch 54/100\n",
      "38014/38014 [==============================] - 243s 6ms/step - loss: 2.0815 - accuracy: 0.9936 - weighted_accuracy: 0.8472 - val_loss: 0.0359 - val_accuracy: 0.9928 - val_weighted_accuracy: 0.9928\n",
      "Epoch 55/100\n",
      "38014/38014 [==============================] - 244s 6ms/step - loss: 2.0044 - accuracy: 0.9937 - weighted_accuracy: 0.8522 - val_loss: 0.0354 - val_accuracy: 0.9931 - val_weighted_accuracy: 0.9931\n",
      "Epoch 56/100\n",
      "38014/38014 [==============================] - 244s 6ms/step - loss: 1.9604 - accuracy: 0.9937 - weighted_accuracy: 0.8546 - val_loss: 0.0352 - val_accuracy: 0.9929 - val_weighted_accuracy: 0.9929\n",
      "Epoch 57/100\n",
      "38014/38014 [==============================] - 244s 6ms/step - loss: 1.9093 - accuracy: 0.9939 - weighted_accuracy: 0.8623 - val_loss: 0.0357 - val_accuracy: 0.9929 - val_weighted_accuracy: 0.9929\n",
      "Epoch 58/100\n",
      "38014/38014 [==============================] - 243s 6ms/step - loss: 1.9569 - accuracy: 0.9938 - weighted_accuracy: 0.8554 - val_loss: 0.0348 - val_accuracy: 0.9930 - val_weighted_accuracy: 0.9930\n",
      "Epoch 59/100\n",
      "38014/38014 [==============================] - 243s 6ms/step - loss: 1.9067 - accuracy: 0.9938 - weighted_accuracy: 0.8627 - val_loss: 0.0343 - val_accuracy: 0.9931 - val_weighted_accuracy: 0.9931\n",
      "Epoch 60/100\n",
      "38014/38014 [==============================] - 243s 6ms/step - loss: 1.9088 - accuracy: 0.9939 - weighted_accuracy: 0.8612 - val_loss: 0.0343 - val_accuracy: 0.9931 - val_weighted_accuracy: 0.9931\n",
      "Epoch 61/100\n",
      "38014/38014 [==============================] - 243s 6ms/step - loss: 1.8670 - accuracy: 0.9940 - weighted_accuracy: 0.8655 - val_loss: 0.0345 - val_accuracy: 0.9929 - val_weighted_accuracy: 0.9929\n",
      "Epoch 62/100\n",
      "38014/38014 [==============================] - 242s 6ms/step - loss: 1.8069 - accuracy: 0.9941 - weighted_accuracy: 0.8717 - val_loss: 0.0348 - val_accuracy: 0.9933 - val_weighted_accuracy: 0.9933\n",
      "Epoch 63/100\n",
      "38014/38014 [==============================] - 242s 6ms/step - loss: 1.7635 - accuracy: 0.9941 - weighted_accuracy: 0.8721 - val_loss: 0.0344 - val_accuracy: 0.9932 - val_weighted_accuracy: 0.9932\n",
      "Epoch 64/100\n",
      "38014/38014 [==============================] - 242s 6ms/step - loss: 1.7679 - accuracy: 0.9941 - weighted_accuracy: 0.8748 - val_loss: 0.0346 - val_accuracy: 0.9932 - val_weighted_accuracy: 0.9932\n",
      "Epoch 65/100\n",
      "38014/38014 [==============================] - 244s 6ms/step - loss: 1.7305 - accuracy: 0.9941 - weighted_accuracy: 0.8779 - val_loss: 0.0350 - val_accuracy: 0.9932 - val_weighted_accuracy: 0.9932\n",
      "Epoch 66/100\n",
      "38014/38014 [==============================] - 245s 6ms/step - loss: 1.7434 - accuracy: 0.9942 - weighted_accuracy: 0.8795 - val_loss: 0.0347 - val_accuracy: 0.9931 - val_weighted_accuracy: 0.9931\n",
      "Epoch 67/100\n",
      "38014/38014 [==============================] - 243s 6ms/step - loss: 1.7168 - accuracy: 0.9942 - weighted_accuracy: 0.8810 - val_loss: 0.0340 - val_accuracy: 0.9932 - val_weighted_accuracy: 0.9932\n",
      "Epoch 68/100\n",
      "38014/38014 [==============================] - 244s 6ms/step - loss: 1.6879 - accuracy: 0.9943 - weighted_accuracy: 0.8829 - val_loss: 0.0344 - val_accuracy: 0.9933 - val_weighted_accuracy: 0.9933\n",
      "Epoch 69/100\n",
      "38014/38014 [==============================] - 244s 6ms/step - loss: 1.6909 - accuracy: 0.9943 - weighted_accuracy: 0.8856 - val_loss: 0.0349 - val_accuracy: 0.9934 - val_weighted_accuracy: 0.9934\n",
      "Epoch 70/100\n",
      "38014/38014 [==============================] - 244s 6ms/step - loss: 1.6532 - accuracy: 0.9943 - weighted_accuracy: 0.8849 - val_loss: 0.0351 - val_accuracy: 0.9933 - val_weighted_accuracy: 0.9933\n",
      "Epoch 71/100\n",
      "38014/38014 [==============================] - 244s 6ms/step - loss: 1.6355 - accuracy: 0.9944 - weighted_accuracy: 0.8884 - val_loss: 0.0351 - val_accuracy: 0.9933 - val_weighted_accuracy: 0.9933\n",
      "Epoch 72/100\n",
      "38014/38014 [==============================] - 244s 6ms/step - loss: 1.5852 - accuracy: 0.9944 - weighted_accuracy: 0.8907 - val_loss: 0.0340 - val_accuracy: 0.9934 - val_weighted_accuracy: 0.9934\n",
      "Epoch 73/100\n",
      "38014/38014 [==============================] - 243s 6ms/step - loss: 1.5422 - accuracy: 0.9945 - weighted_accuracy: 0.8946 - val_loss: 0.0338 - val_accuracy: 0.9934 - val_weighted_accuracy: 0.9934\n",
      "Epoch 74/100\n",
      "38014/38014 [==============================] - 243s 6ms/step - loss: 1.5000 - accuracy: 0.9945 - weighted_accuracy: 0.8965 - val_loss: 0.0345 - val_accuracy: 0.9934 - val_weighted_accuracy: 0.9934\n",
      "Epoch 75/100\n",
      "38014/38014 [==============================] - 242s 6ms/step - loss: 1.5134 - accuracy: 0.9945 - weighted_accuracy: 0.8939 - val_loss: 0.0341 - val_accuracy: 0.9935 - val_weighted_accuracy: 0.9935\n",
      "Epoch 76/100\n",
      "38014/38014 [==============================] - 242s 6ms/step - loss: 1.4833 - accuracy: 0.9945 - weighted_accuracy: 0.8946 - val_loss: 0.0333 - val_accuracy: 0.9937 - val_weighted_accuracy: 0.9937\n",
      "Epoch 77/100\n",
      "38014/38014 [==============================] - 244s 6ms/step - loss: 1.4380 - accuracy: 0.9946 - weighted_accuracy: 0.8970 - val_loss: 0.0334 - val_accuracy: 0.9937 - val_weighted_accuracy: 0.9937\n",
      "Epoch 78/100\n",
      "38014/38014 [==============================] - 242s 6ms/step - loss: 1.4010 - accuracy: 0.9945 - weighted_accuracy: 0.8985 - val_loss: 0.0337 - val_accuracy: 0.9936 - val_weighted_accuracy: 0.9936\n",
      "Epoch 79/100\n",
      "38014/38014 [==============================] - 244s 6ms/step - loss: 1.4145 - accuracy: 0.9945 - weighted_accuracy: 0.8977 - val_loss: 0.0330 - val_accuracy: 0.9937 - val_weighted_accuracy: 0.9937\n",
      "Epoch 80/100\n",
      "38014/38014 [==============================] - 244s 6ms/step - loss: 1.3656 - accuracy: 0.9947 - weighted_accuracy: 0.9021 - val_loss: 0.0335 - val_accuracy: 0.9935 - val_weighted_accuracy: 0.9935\n",
      "Epoch 81/100\n",
      "38014/38014 [==============================] - 244s 6ms/step - loss: 1.3733 - accuracy: 0.9947 - weighted_accuracy: 0.9021 - val_loss: 0.0338 - val_accuracy: 0.9937 - val_weighted_accuracy: 0.9937\n",
      "Epoch 82/100\n",
      "38014/38014 [==============================] - 243s 6ms/step - loss: 1.3461 - accuracy: 0.9947 - weighted_accuracy: 0.9024 - val_loss: 0.0327 - val_accuracy: 0.9937 - val_weighted_accuracy: 0.9937\n",
      "Epoch 83/100\n",
      "38014/38014 [==============================] - 245s 6ms/step - loss: 1.3157 - accuracy: 0.9947 - weighted_accuracy: 0.9059 - val_loss: 0.0333 - val_accuracy: 0.9934 - val_weighted_accuracy: 0.9934\n",
      "Epoch 84/100\n",
      "38014/38014 [==============================] - 243s 6ms/step - loss: 1.3247 - accuracy: 0.9947 - weighted_accuracy: 0.9055 - val_loss: 0.0332 - val_accuracy: 0.9935 - val_weighted_accuracy: 0.9935\n",
      "Epoch 85/100\n",
      "38014/38014 [==============================] - 243s 6ms/step - loss: 1.3214 - accuracy: 0.9947 - weighted_accuracy: 0.9063 - val_loss: 0.0332 - val_accuracy: 0.9935 - val_weighted_accuracy: 0.9935\n",
      "Epoch 86/100\n",
      "38014/38014 [==============================] - 244s 6ms/step - loss: 1.3000 - accuracy: 0.9948 - weighted_accuracy: 0.9063 - val_loss: 0.0327 - val_accuracy: 0.9936 - val_weighted_accuracy: 0.9936\n",
      "Epoch 87/100\n",
      "38014/38014 [==============================] - 244s 6ms/step - loss: 1.2994 - accuracy: 0.9948 - weighted_accuracy: 0.9090 - val_loss: 0.0332 - val_accuracy: 0.9937 - val_weighted_accuracy: 0.9937\n",
      "Epoch 88/100\n",
      "38014/38014 [==============================] - 243s 6ms/step - loss: 1.2633 - accuracy: 0.9948 - weighted_accuracy: 0.9101 - val_loss: 0.0325 - val_accuracy: 0.9938 - val_weighted_accuracy: 0.9938\n",
      "Epoch 89/100\n",
      "38014/38014 [==============================] - 243s 6ms/step - loss: 1.2223 - accuracy: 0.9948 - weighted_accuracy: 0.9133 - val_loss: 0.0334 - val_accuracy: 0.9937 - val_weighted_accuracy: 0.9937\n",
      "Epoch 90/100\n",
      "38014/38014 [==============================] - 243s 6ms/step - loss: 1.2407 - accuracy: 0.9949 - weighted_accuracy: 0.9103 - val_loss: 0.0326 - val_accuracy: 0.9938 - val_weighted_accuracy: 0.9938\n",
      "Epoch 91/100\n",
      "38014/38014 [==============================] - 243s 6ms/step - loss: 1.1973 - accuracy: 0.9949 - weighted_accuracy: 0.9160 - val_loss: 0.0328 - val_accuracy: 0.9939 - val_weighted_accuracy: 0.9939\n",
      "Epoch 92/100\n",
      "38014/38014 [==============================] - 244s 6ms/step - loss: 1.1838 - accuracy: 0.9951 - weighted_accuracy: 0.9184 - val_loss: 0.0320 - val_accuracy: 0.9939 - val_weighted_accuracy: 0.9939\n",
      "Epoch 93/100\n",
      "38014/38014 [==============================] - 241s 6ms/step - loss: 1.1552 - accuracy: 0.9951 - weighted_accuracy: 0.9188 - val_loss: 0.0319 - val_accuracy: 0.9939 - val_weighted_accuracy: 0.9939\n",
      "Epoch 94/100\n",
      "38014/38014 [==============================] - 245s 6ms/step - loss: 1.1666 - accuracy: 0.9951 - weighted_accuracy: 0.9196 - val_loss: 0.0325 - val_accuracy: 0.9937 - val_weighted_accuracy: 0.9937\n",
      "Epoch 95/100\n",
      "38014/38014 [==============================] - 252s 7ms/step - loss: 1.1167 - accuracy: 0.9951 - weighted_accuracy: 0.9215 - val_loss: 0.0322 - val_accuracy: 0.9939 - val_weighted_accuracy: 0.9939\n",
      "Epoch 96/100\n",
      "38014/38014 [==============================] - 254s 7ms/step - loss: 1.1143 - accuracy: 0.9952 - weighted_accuracy: 0.9208 - val_loss: 0.0312 - val_accuracy: 0.9939 - val_weighted_accuracy: 0.9939\n",
      "Epoch 97/100\n",
      "38014/38014 [==============================] - 254s 7ms/step - loss: 1.0761 - accuracy: 0.9952 - weighted_accuracy: 0.9266 - val_loss: 0.0318 - val_accuracy: 0.9937 - val_weighted_accuracy: 0.9937\n",
      "Epoch 98/100\n",
      "38014/38014 [==============================] - 254s 7ms/step - loss: 1.0703 - accuracy: 0.9952 - weighted_accuracy: 0.9239 - val_loss: 0.0317 - val_accuracy: 0.9939 - val_weighted_accuracy: 0.9939\n",
      "Epoch 99/100\n",
      "38014/38014 [==============================] - 253s 7ms/step - loss: 1.0485 - accuracy: 0.9953 - weighted_accuracy: 0.9259 - val_loss: 0.0308 - val_accuracy: 0.9941 - val_weighted_accuracy: 0.9941\n",
      "Epoch 100/100\n",
      "38014/38014 [==============================] - 253s 7ms/step - loss: 1.0556 - accuracy: 0.9953 - weighted_accuracy: 0.9247 - val_loss: 0.0315 - val_accuracy: 0.9938 - val_weighted_accuracy: 0.9938\n"
     ]
    },
    {
     "data": {
      "text/plain": [
       "<tensorflow.python.keras.callbacks.History at 0x7f426e138ac8>"
      ]
     },
     "execution_count": 35,
     "metadata": {},
     "output_type": "execute_result"
    }
   ],
   "source": [
    "mydf = df\n",
    "y_labels      = mydf['Npulses']   # Peel off only 5 labels\n",
    "y_cat_labels  = tf.keras.utils.to_categorical( y_labels, 3 )\n",
    "x_waveform    = mydf.iloc[:,5:133]  # Peel off 128 waveform samples\n",
    "\n",
    "# account for imbalanced samples\n",
    "no_pulse_weight  = len(df)/len(dfno_pulses)\n",
    "one_pulse_weight = len(df)/len(dfone_pulse)\n",
    "two_pulse_weight = len(df)/len(dftwo_pulse)\n",
    "class_weight = {0:no_pulse_weight, 1:one_pulse_weight, 2:two_pulse_weight}\n",
    "print('class_weight: ' + str(class_weight))\n",
    "\n",
    "BATCH  = 4\n",
    "EPOCHS = 100\n",
    "\n",
    "early_stopping = tf.keras.callbacks.EarlyStopping(\n",
    "    'val_mae',\n",
    "    min_delta=0.002,\n",
    "    patience=3,\n",
    "    restore_best_weights=True,\n",
    "    verbose=1\n",
    ")\n",
    "\n",
    "model.fit(x_waveform, y_cat_labels, class_weight=class_weight, batch_size=BATCH, epochs=EPOCHS, validation_split=0.2)"
   ]
  },
  {
   "cell_type": "code",
   "execution_count": 6,
   "metadata": {},
   "outputs": [
    {
     "name": "stdout",
     "output_type": "stream",
     "text": [
      "WARNING:tensorflow:From /w/halld-scifs17exp/halld2/home/davidl/builds/Python_VENV/venv_2020.10.13.tf2.3.1/lib/python3.7/site-packages/tensorflow/python/training/tracking/tracking.py:111: Model.state_updates (from tensorflow.python.keras.engine.training) is deprecated and will be removed in a future version.\n",
      "Instructions for updating:\n",
      "This property should not be used in TensorFlow 2.0, as updates are applied automatically.\n",
      "WARNING:tensorflow:From /w/halld-scifs17exp/halld2/home/davidl/builds/Python_VENV/venv_2020.10.13.tf2.3.1/lib/python3.7/site-packages/tensorflow/python/training/tracking/tracking.py:111: Layer.updates (from tensorflow.python.keras.engine.base_layer) is deprecated and will be removed in a future version.\n",
      "Instructions for updating:\n",
      "This property should not be used in TensorFlow 2.0, as updates are applied automatically.\n",
      "INFO:tensorflow:Assets written to: 2020.10.31.Npulses/assets\n"
     ]
    }
   ],
   "source": [
    "model.save('2020.11.01.Npulses')"
   ]
  },
  {
   "cell_type": "markdown",
   "metadata": {},
   "source": [
    "Check the accuracy of the model in predicting the number of pulses"
   ]
  },
  {
   "cell_type": "code",
   "execution_count": 7,
   "metadata": {},
   "outputs": [],
   "source": [
    "y_true = df['Npulses'].to_numpy()\n",
    "y_pred = model.predict(mydf.iloc[:,5:133])\n",
    "y_pred = np.squeeze(np.round(y_pred))"
   ]
  },
  {
   "cell_type": "code",
   "execution_count": 10,
   "metadata": {},
   "outputs": [
    {
     "name": "stdout",
     "output_type": "stream",
     "text": [
      "Total waveforms: 190071  (126000 - 0 pulse, 63000 - 1 pulse, 1071 - 2 pulse)\n",
      "Zero pulse waveforms: 124223 correct, 1777 incorrect (1.4%)\n",
      "One pulse waveforms: 61706 correct, 1294 incorrect (2.1%)\n",
      "Two pulse waveforms: 0 correct, 1071 incorrect (100.0%)\n"
     ]
    }
   ],
   "source": [
    "y_diff = y_pred - y_true\n",
    "testdf = pd.DataFrame({'y_diff':y_diff, 'y_true':y_true, 'y_pred':y_pred})\n",
    "\n",
    "N_zero_pulse = len(testdf[ (testdf['y_true']==0) ])\n",
    "N_one_pulse = len(testdf[ (testdf['y_true']==1) ])\n",
    "N_two_pulse = len(testdf[ (testdf['y_true']==2) ])\n",
    "\n",
    "Ngood_zero_pulse = len(testdf[ (testdf['y_diff']==0) & (testdf['y_true']==0) ])\n",
    "Ngood_one_pulse = len(testdf[ (testdf['y_diff']==0) & (testdf['y_true']==1) ])\n",
    "Ngood_two_pulse = len(testdf[ (testdf['y_diff']==0) & (testdf['y_true']==2) ])\n",
    "\n",
    "Nbad_zero_pulse = len(testdf[ (testdf['y_diff']!=0) & (testdf['y_true']==0) ])\n",
    "Nbad_one_pulse = len(testdf[ (testdf['y_diff']!=0) & (testdf['y_true']==1) ])\n",
    "Nbad_two_pulse = len(testdf[ (testdf['y_diff']!=0) & (testdf['y_true']==2) ])\n",
    "\n",
    "percent_bad_zero_pulse = 100.0*Nbad_zero_pulse/(Nbad_zero_pulse+Ngood_zero_pulse)\n",
    "percent_bad_one_pulse = 100.0*Nbad_one_pulse/(Nbad_one_pulse+Ngood_one_pulse)\n",
    "percent_bad_two_pulse = 100.0*Nbad_two_pulse/(Nbad_two_pulse+Ngood_two_pulse)\n",
    "\n",
    "print('Total waveforms: %d  (%d - 0 pulse, %d - 1 pulse, %d - 2 pulse)' % (len(testdf), N_zero_pulse, N_one_pulse, N_two_pulse))\n",
    "print('Zero pulse waveforms: %d correct, %d incorrect (%3.1f%%)' % (Ngood_zero_pulse, Nbad_zero_pulse, percent_bad_zero_pulse))\n",
    "print('One pulse waveforms: %d correct, %d incorrect (%3.1f%%)' % (Ngood_one_pulse, Nbad_one_pulse, percent_bad_one_pulse))\n",
    "print('Two pulse waveforms: %d correct, %d incorrect (%3.1f%%)' % (Ngood_two_pulse, Nbad_two_pulse, percent_bad_two_pulse))"
   ]
  },
  {
   "cell_type": "code",
   "execution_count": null,
   "metadata": {},
   "outputs": [],
   "source": []
  }
 ],
 "metadata": {
  "kernelspec": {
   "display_name": "venv_2020.10.13.tf2.3.1",
   "language": "python",
   "name": "venv_2020.10.13.tf2.3.1"
  },
  "language_info": {
   "codemirror_mode": {
    "name": "ipython",
    "version": 3
   },
   "file_extension": ".py",
   "mimetype": "text/x-python",
   "name": "python",
   "nbconvert_exporter": "python",
   "pygments_lexer": "ipython3",
   "version": "3.7.3"
  }
 },
 "nbformat": 4,
 "nbformat_minor": 4
}
