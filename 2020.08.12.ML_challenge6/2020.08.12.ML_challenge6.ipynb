{
 "cells": [
  {
   "cell_type": "markdown",
   "metadata": {},
   "source": [
    "# ML Challenge 6 Part 1\n",
    "\n",
    "Here is my attempt at the JLab A.I. Lunch series quarterly challenge issued Augus, 2020. Details on the challenge can be found here:\n",
    "\n",
    "https://halldweb.jlab.org/talks/ML_lunch/Aug2020/\n",
    "\n",
    "This challenge is to identify up to 2 pulses (amplitude and time) is a 128 sample waveform taken from calorimeter data. There are 190k wave forms and each may contain 0,1, or 2 pulses. The labels given represent the amplitudes and times of the pulses with special values of amplitude=0 and time=-1 to indicate no pulse.\n",
    "\n",
    "The first step, as I have learned from the lunch series, is to always take a look at the data. i.e. *Know your data*."
   ]
  },
  {
   "cell_type": "code",
   "execution_count": 1,
   "metadata": {},
   "outputs": [
    {
     "name": "stdout",
     "output_type": "stream",
     "text": [
      "Number of waveforms: 190071\n"
     ]
    }
   ],
   "source": [
    "# Read the full data file into a dataframe\n",
    "# This file does not have a header so we define the column names here explicitly\n",
    "\n",
    "import pandas as pd\n",
    "import numpy as np\n",
    "\n",
    "TRAIN_FILE  = '/home/davidl/work2/2020.08.12.ML_challenge6/Aug_2020_ML_train.csv'\n",
    "\n",
    "# Columns in input file. First 5 are labels\n",
    "names = ['ped', 'A1', 'A2', 't1', 't2']\n",
    "\n",
    "# Next 128 are features (waveform)\n",
    "for i in range(0,128): names.append('s%03d' % i)\n",
    "\n",
    "# Read file and print how many waveforms are found\n",
    "df = pd.read_csv(TRAIN_FILE, names=names)\n",
    "print('Number of waveforms: %d' % len(df.index))\n"
   ]
  },
  {
   "cell_type": "markdown",
   "metadata": {},
   "source": [
    "## Plot values\n",
    "\n",
    "In the next cell I plot the values of each of the 5 labels. First, plotting all values and allowing the histogram to automatically select the x-axis range. This is not all that useful other than seeing what the range and values are for each parameter. Below that, I make the same plots, but cut out amplitudes that are zero, pedestals less than -200, and times less than zero. I also limit the x-axis ranges to something that shows me most of the data. This gives me a much better view of the distribution of the majority of the data.\n",
    "\n",
    "At the end of the cell, I print some statistics on what is in the file regarding number of pulses. (The printed lines actually show up above the plots). With this I can see that only about 1/3 of the wave forms have any identified pulses. About 1/3 have exactly 1 pulse while only about 0.5% have two pulses. I can also see that when there is only one pulse, A1,t1 are set (i.e. there are no 1 pulse waveforms where A2,t2 are set)."
   ]
  },
  {
   "cell_type": "code",
   "execution_count": 6,
   "metadata": {},
   "outputs": [
    {
     "name": "stdout",
     "output_type": "stream",
     "text": [
      "                   Num. total: 190071\n",
      "             Num. zero pulses: 126000\n",
      "           Num. with A1 pulse: 64071\n",
      "           Num. with A2 pulse: 1071\n",
      "Num. with A1 but not A2 pulse: 63000\n",
      "Num. with A2 but not A1 pulse: 0\n"
     ]
    },
    {
     "data": {
      "text/html": [
       "<div>\n",
       "<style scoped>\n",
       "    .dataframe tbody tr th:only-of-type {\n",
       "        vertical-align: middle;\n",
       "    }\n",
       "\n",
       "    .dataframe tbody tr th {\n",
       "        vertical-align: top;\n",
       "    }\n",
       "\n",
       "    .dataframe thead th {\n",
       "        text-align: right;\n",
       "    }\n",
       "</style>\n",
       "<table border=\"1\" class=\"dataframe\">\n",
       "  <thead>\n",
       "    <tr style=\"text-align: right;\">\n",
       "      <th></th>\n",
       "      <th>ped</th>\n",
       "      <th>A1</th>\n",
       "      <th>A2</th>\n",
       "      <th>t1</th>\n",
       "      <th>t2</th>\n",
       "      <th>s000</th>\n",
       "      <th>s001</th>\n",
       "      <th>s002</th>\n",
       "      <th>s003</th>\n",
       "      <th>s004</th>\n",
       "      <th>...</th>\n",
       "      <th>s118</th>\n",
       "      <th>s119</th>\n",
       "      <th>s120</th>\n",
       "      <th>s121</th>\n",
       "      <th>s122</th>\n",
       "      <th>s123</th>\n",
       "      <th>s124</th>\n",
       "      <th>s125</th>\n",
       "      <th>s126</th>\n",
       "      <th>s127</th>\n",
       "    </tr>\n",
       "  </thead>\n",
       "  <tbody>\n",
       "    <tr>\n",
       "      <th>0</th>\n",
       "      <td>2.132430</td>\n",
       "      <td>263.75</td>\n",
       "      <td>0.0</td>\n",
       "      <td>38.0609</td>\n",
       "      <td>-1.0</td>\n",
       "      <td>0</td>\n",
       "      <td>5</td>\n",
       "      <td>0</td>\n",
       "      <td>11</td>\n",
       "      <td>7</td>\n",
       "      <td>...</td>\n",
       "      <td>-4</td>\n",
       "      <td>0</td>\n",
       "      <td>2</td>\n",
       "      <td>2</td>\n",
       "      <td>-5</td>\n",
       "      <td>0</td>\n",
       "      <td>-2</td>\n",
       "      <td>-2</td>\n",
       "      <td>-1</td>\n",
       "      <td>12</td>\n",
       "    </tr>\n",
       "    <tr>\n",
       "      <th>1</th>\n",
       "      <td>-0.557870</td>\n",
       "      <td>0.00</td>\n",
       "      <td>0.0</td>\n",
       "      <td>-1.0000</td>\n",
       "      <td>-1.0</td>\n",
       "      <td>0</td>\n",
       "      <td>-2</td>\n",
       "      <td>6</td>\n",
       "      <td>1</td>\n",
       "      <td>1</td>\n",
       "      <td>...</td>\n",
       "      <td>4</td>\n",
       "      <td>0</td>\n",
       "      <td>5</td>\n",
       "      <td>5</td>\n",
       "      <td>3</td>\n",
       "      <td>2</td>\n",
       "      <td>9</td>\n",
       "      <td>0</td>\n",
       "      <td>-4</td>\n",
       "      <td>4</td>\n",
       "    </tr>\n",
       "    <tr>\n",
       "      <th>2</th>\n",
       "      <td>1.114880</td>\n",
       "      <td>0.00</td>\n",
       "      <td>0.0</td>\n",
       "      <td>-1.0000</td>\n",
       "      <td>-1.0</td>\n",
       "      <td>-1</td>\n",
       "      <td>0</td>\n",
       "      <td>4</td>\n",
       "      <td>0</td>\n",
       "      <td>4</td>\n",
       "      <td>...</td>\n",
       "      <td>3</td>\n",
       "      <td>2</td>\n",
       "      <td>3</td>\n",
       "      <td>2</td>\n",
       "      <td>-8</td>\n",
       "      <td>2</td>\n",
       "      <td>1</td>\n",
       "      <td>0</td>\n",
       "      <td>-1</td>\n",
       "      <td>6</td>\n",
       "    </tr>\n",
       "    <tr>\n",
       "      <th>3</th>\n",
       "      <td>-0.257242</td>\n",
       "      <td>0.00</td>\n",
       "      <td>0.0</td>\n",
       "      <td>-1.0000</td>\n",
       "      <td>-1.0</td>\n",
       "      <td>4</td>\n",
       "      <td>5</td>\n",
       "      <td>8</td>\n",
       "      <td>8</td>\n",
       "      <td>2</td>\n",
       "      <td>...</td>\n",
       "      <td>0</td>\n",
       "      <td>0</td>\n",
       "      <td>5</td>\n",
       "      <td>9</td>\n",
       "      <td>10</td>\n",
       "      <td>5</td>\n",
       "      <td>-8</td>\n",
       "      <td>6</td>\n",
       "      <td>6</td>\n",
       "      <td>0</td>\n",
       "    </tr>\n",
       "    <tr>\n",
       "      <th>4</th>\n",
       "      <td>3.955660</td>\n",
       "      <td>284.46</td>\n",
       "      <td>0.0</td>\n",
       "      <td>37.3384</td>\n",
       "      <td>-1.0</td>\n",
       "      <td>8</td>\n",
       "      <td>12</td>\n",
       "      <td>5</td>\n",
       "      <td>-1</td>\n",
       "      <td>-5</td>\n",
       "      <td>...</td>\n",
       "      <td>-3</td>\n",
       "      <td>1</td>\n",
       "      <td>-4</td>\n",
       "      <td>8</td>\n",
       "      <td>4</td>\n",
       "      <td>3</td>\n",
       "      <td>10</td>\n",
       "      <td>4</td>\n",
       "      <td>-10</td>\n",
       "      <td>0</td>\n",
       "    </tr>\n",
       "  </tbody>\n",
       "</table>\n",
       "<p>5 rows × 133 columns</p>\n",
       "</div>"
      ],
      "text/plain": [
       "        ped      A1   A2       t1   t2  s000  s001  s002  s003  s004  ...  \\\n",
       "0  2.132430  263.75  0.0  38.0609 -1.0     0     5     0    11     7  ...   \n",
       "1 -0.557870    0.00  0.0  -1.0000 -1.0     0    -2     6     1     1  ...   \n",
       "2  1.114880    0.00  0.0  -1.0000 -1.0    -1     0     4     0     4  ...   \n",
       "3 -0.257242    0.00  0.0  -1.0000 -1.0     4     5     8     8     2  ...   \n",
       "4  3.955660  284.46  0.0  37.3384 -1.0     8    12     5    -1    -5  ...   \n",
       "\n",
       "   s118  s119  s120  s121  s122  s123  s124  s125  s126  s127  \n",
       "0    -4     0     2     2    -5     0    -2    -2    -1    12  \n",
       "1     4     0     5     5     3     2     9     0    -4     4  \n",
       "2     3     2     3     2    -8     2     1     0    -1     6  \n",
       "3     0     0     5     9    10     5    -8     6     6     0  \n",
       "4    -3     1    -4     8     4     3    10     4   -10     0  \n",
       "\n",
       "[5 rows x 133 columns]"
      ]
     },
     "execution_count": 6,
     "metadata": {},
     "output_type": "execute_result"
    },
    {
     "data": {
      "image/png": "[encoded data removed]",
      "text/plain": [
       "<Figure size 1440x180 with 5 Axes>"
      ]
     },
     "metadata": {
      "needs_background": "light"
     },
     "output_type": "display_data"
    },
    {
     "data": {
      "image/png": "[encoded data removed]",
      "text/plain": [
       "<Figure size 1440x180 with 5 Axes>"
      ]
     },
     "metadata": {
      "needs_background": "light"
     },
     "output_type": "display_data"
    }
   ],
   "source": [
    "import matplotlib.pyplot as plt\n",
    "\n",
    "# Plot all labels with default axes and no cuts\n",
    "h = df.hist(column=['A1','A2','t1','t2','ped'], bins=100, figsize=(20.0,2.5), layout=(1,5))\n",
    "\n",
    "# Plot with zeros suppressed\n",
    "fig, ax = plt.subplots(1,5, figsize=(20,2.5))\n",
    "\n",
    "dfA1 = df[df.A1 != 0]\n",
    "dfA1.hist(ax=ax[0], column=['A1'], bins=np.linspace(0.0, 2000.0, 100), color='green')\n",
    "\n",
    "dfA2 = df[df.A2 != 0]\n",
    "dfA2.hist(ax=ax[1], column=['A2'], bins=np.linspace(0.0, 2000.0, 100), color='magenta')\n",
    "\n",
    "dfped = df[df.ped >= -200]\n",
    "dfped.hist(ax=ax[2], column=['ped'], bins=np.linspace(-50.0, 50.0, 100), color='blue')\n",
    "\n",
    "dft1 = df[df.t1 >= 0]\n",
    "dft1.hist(ax=ax[3], column=['t1'], bins=np.linspace(0.0, 68.0, 100), color='blue')\n",
    "\n",
    "dft2 = df[df.t2 >= 0]\n",
    "dft2.hist(ax=ax[4], column=['t2'], bins=np.linspace(0.0, 80.5, 100), color='blue')\n",
    "\n",
    "dfno_pulses = df[(df.A1==0) & (df.A2==0)]\n",
    "dfA1_not_A2 = df[(df.A1!=0) & (df.A2==0)]\n",
    "dfA2_not_A1 = df[(df.A1==0) & (df.A2!=0)]\n",
    "\n",
    "Ntot = len(df)\n",
    "NA1  = len(dfA1)\n",
    "NA2  = len(dfA2)\n",
    "Nnone= len(dfno_pulses)\n",
    "NA1_not_A2 = len(dfA1_not_A2)\n",
    "NA2_not_A1 = len(dfA2_not_A1)\n",
    "\n",
    "print('                   Num. total: %d' % Ntot)\n",
    "print('             Num. zero pulses: %d' % Nnone)\n",
    "print('           Num. with A1 pulse: %d' % NA1)\n",
    "print('           Num. with A2 pulse: %d' % NA2)\n",
    "print('Num. with A1 but not A2 pulse: %d' % NA1_not_A2)\n",
    "print('Num. with A2 but not A1 pulse: %d' % NA2_not_A1)\n",
    "\n",
    "df.head()"
   ]
  },
  {
   "cell_type": "markdown",
   "metadata": {},
   "source": [
    "## Define model\n",
    "\n",
    "In the next cell I define the model to fit to the data. Note that this does not actually create the model. It just defines the routines that get called in another cell further down. \n",
    "\n",
    "I break this up into *DefineModel*, *DefineCommonModel*, and *DefineCommonOutput* routines. This structure was inherited from a more complicated model I was working on, but I keep it since I find it makes it a little more readable and manageable. It also gives me flexibility if I want to increase the complexity of the model later.\n",
    "\n",
    "One thing to note is that in *DefineModel* I compile the model to use a custom loss function. The *customLoss* function itself is defined in another cell further down. See the comments there for details on why I do this."
   ]
  },
  {
   "cell_type": "code",
   "execution_count": 3,
   "metadata": {},
   "outputs": [],
   "source": [
    "from tensorflow.keras.models import load_model\n",
    "from tensorflow.keras.models import Model\n",
    "from tensorflow.keras.layers import Dense, Reshape, Flatten, Input, Lambda\n",
    "from tensorflow.keras.optimizers import SGD, Adamax, Adadelta\n",
    "from tensorflow.keras.callbacks import Callback, TensorBoard\n",
    "import tensorflow.keras.backend as K\n",
    "import tensorflow.keras.losses\n",
    "import tensorflow as tf\n",
    "\n",
    "GPUS    = 0\n",
    "NINPUTS = 128\n",
    "Nouts   = 200\n",
    "\n",
    "#-----------------------------------------------------\n",
    "# DefineModel\n",
    "#-----------------------------------------------------\n",
    "# This is used to define the model. It is only called if no model\n",
    "# file is found in the model_checkpoints directory.\n",
    "def DefineModel():\n",
    "\n",
    "    # If GPUS==0 this will force use of CPU, even if GPUs are present\n",
    "    # If GPUS>1 this will force the CPU to serve as orchestrator\n",
    "    # If GPUS==1 this will do nothing, allowing GPU to act as its own orchestrator\n",
    "    if GPUS!=1: tf.device('/cpu:0')\n",
    "\n",
    "    # Here we build the network model.\n",
    "    # This model is made of multiple parts. The first handles the\n",
    "    # inputs and identifies common features. The rest are branches with\n",
    "    # each determining an output parameter from those features.\n",
    "    inputs         = Input(shape=(NINPUTS,), name='waveform')\n",
    "    commonmodel    = DefineCommonModel(inputs)\n",
    "    commonoutput   = DefineCommonOutput(commonmodel)\n",
    "\n",
    "    model          = Model(inputs=inputs, outputs=commonoutput)\n",
    "\n",
    "    # Compile the model, possibly using multiple GPUs\n",
    "    opt = Adadelta(clipnorm=1.0)\n",
    "    if GPUS<=1 :\n",
    "        final_model = model\n",
    "    else:\n",
    "        final_model = multi_gpu_model( model, gpus=GPUS )\n",
    "\n",
    "    #final_model.add_loss(customLoss( input_true, commonoutput, input_incov ) )\n",
    "    final_model.compile(loss=customLoss, optimizer=opt, metrics=['mae', 'mse', 'accuracy'])\n",
    "    \n",
    "    return final_model\n",
    "\n",
    "#-----------------------------------------------------\n",
    "# DefineCommonModel\n",
    "#-----------------------------------------------------\n",
    "def DefineCommonModel(inputs):\n",
    "    x = Flatten(name='top_layer1')(inputs)\n",
    "    x = Dense(int(Nouts*5), name='common_layer1', activation='linear', kernel_initializer=\"glorot_uniform\")(x)\n",
    "    x = Dense(int(Nouts), name='common_layer2', activation='tanh', kernel_initializer=\"glorot_uniform\")(x)\n",
    "    x = Dense(int(Nouts), name='common_layer3', activation='linear', kernel_initializer=\"glorot_uniform\")(x)\n",
    "    x = Dense(int(Nouts), name='common_layer4', activation='tanh', kernel_initializer=\"glorot_uniform\")(x)\n",
    "    x = Dense(int(Nouts), name='common_layer5', activation='linear', kernel_initializer=\"glorot_uniform\")(x)\n",
    "    return x\n",
    "\n",
    "#-----------------------------------------------------\n",
    "# DefineCommonOutput\n",
    "#-----------------------------------------------------\n",
    "def DefineCommonOutput(inputs):\n",
    "    #x = tf.keras.layers.concatenate( inputs )\n",
    "    x = Dense(Nouts, name='common_out1', activation='linear', kernel_initializer=\"glorot_uniform\")(inputs)\n",
    "    x = Dense(Nouts, name='common_out2', activation='tanh', kernel_initializer=\"glorot_uniform\")(x)\n",
    "    x = Dense(Nouts, name='common_out3', activation='relu', kernel_initializer=\"glorot_uniform\")(x)\n",
    "    x = Dense(5, name='outputs', activation='relu', kernel_initializer=\"glorot_uniform\")(x)\n",
    "    return x\n",
    "\n"
   ]
  },
  {
   "cell_type": "markdown",
   "metadata": {},
   "source": [
    "## Custom Loss Function\n",
    "\n",
    "In the cell below I define a custom loss function. The motivation here is that the nature of the outputs (amplitudes and times) differs. Thus, simply doing a mean squared error loss that mixes them may not be sufficient. Yes, I could apply weights in the form of $1/\\sigma^{2}$ to normalize them which could work. At this point though, I'm thinking I may need to include something more complex due to the special values used to indicate \"no pulse\". Setting up to use a custom loss let's me come back and play with this once I get all of the rest of the mechanism set up."
   ]
  },
  {
   "cell_type": "code",
   "execution_count": 4,
   "metadata": {},
   "outputs": [],
   "source": [
    "#--------------------------------------------\n",
    "# Define custom loss function \n",
    "#-----------------------------------------------------\n",
    "def customLoss(y_true, y_pred):\n",
    "\n",
    "    batch_size = tf.shape(y_pred)[0]  # n.b. y_pred.shape[0] will not work for some reason in tf1\n",
    "    print('y_pred shape: ' + str(y_pred.shape) )  # y_pred shape is (batch, 5)\n",
    "    print('y_true shape: ' + str(y_true.shape) )  # y_true shape is (batch, 5)\n",
    "     \n",
    "    # Difference between prediction and true\n",
    "    y_diff = y_pred - y_true\n",
    "    y_loss = y_diff*y_diff\n",
    "    \n",
    "    # n.b. use \"batch_dot\" and not \"dot\"!\n",
    "    #y_dot = K.batch_dot(invcov, y_diff)           # y_dot shape is (batch,5,1)\n",
    "    #y_dot = K.reshape(y_dot, (batch_size, 1, 5))  # y_dot shape is now (batch,1,5)\n",
    "    #y_loss = K.batch_dot(y_dot, y_diff)           # y_loss shape is (batch,1,1)\n",
    "    #y_loss = K.reshape(y_loss, (batch_size,))     # y_loss shape is now (batch)\n",
    "    return y_loss"
   ]
  },
  {
   "cell_type": "markdown",
   "metadata": {},
   "source": [
    "## Load or build the model\n",
    "\n",
    "In this next cell I actually call the above routines to build the model. However, before I do I check if there is a model left over from a previous training session. I do this so I can continue training if an earlier session was interrupted or even if I decide I want to do more epochs than I orignially set it to do. If I want to start fresh, I just need to manually remove any models in the *checkpoints_dir*.\n",
    "\n"
   ]
  },
  {
   "cell_type": "code",
   "execution_count": 5,
   "metadata": {},
   "outputs": [
    {
     "name": "stdout",
     "output_type": "stream",
     "text": [
      "Loading model: /home/davidl/work2/2020.08.12.ML_challenge6/model_checkpoints_part1/model_epoch002.h5\n",
      "Model: \"functional_3\"\n",
      "_________________________________________________________________\n",
      "Layer (type)                 Output Shape              Param #   \n",
      "=================================================================\n",
      "waveform (InputLayer)        [(None, 128)]             0         \n",
      "_________________________________________________________________\n",
      "top_layer1 (Flatten)         (None, 128)               0         \n",
      "_________________________________________________________________\n",
      "common_layer1 (Dense)        (None, 1000)              129000    \n",
      "_________________________________________________________________\n",
      "common_layer2 (Dense)        (None, 200)               200200    \n",
      "_________________________________________________________________\n",
      "common_layer3 (Dense)        (None, 200)               40200     \n",
      "_________________________________________________________________\n",
      "common_layer4 (Dense)        (None, 200)               40200     \n",
      "_________________________________________________________________\n",
      "common_layer5 (Dense)        (None, 200)               40200     \n",
      "_________________________________________________________________\n",
      "common_out1 (Dense)          (None, 200)               40200     \n",
      "_________________________________________________________________\n",
      "common_out2 (Dense)          (None, 200)               40200     \n",
      "_________________________________________________________________\n",
      "common_out3 (Dense)          (None, 200)               40200     \n",
      "_________________________________________________________________\n",
      "outputs (Dense)              (None, 5)                 1005      \n",
      "=================================================================\n",
      "Total params: 571,405\n",
      "Trainable params: 571,405\n",
      "Non-trainable params: 0\n",
      "_________________________________________________________________\n"
     ]
    }
   ],
   "source": [
    "# Here we want to check if a model has been saved due to previous training.\n",
    "# If so, then we read it in and continue training where it left off. Otherwise,\n",
    "# we define the model and start fresh. \n",
    "\n",
    "import os\n",
    "\n",
    "checkpoints_dir = '/home/davidl/work2/2020.08.12.ML_challenge6/model_checkpoints_part1'\n",
    "\n",
    "# Look for most recent saved epoch\n",
    "epoch_loaded = -1\n",
    "if os.path.exists(checkpoints_dir):\n",
    "    for f in os.listdir(checkpoints_dir):\n",
    "        if f.startswith('model_epoch') and f.endswith('.h5'):\n",
    "            e = int(f[11:-3])\n",
    "            if e > epoch_loaded:\n",
    "                epoch_loaded = e\n",
    "                fname = checkpoints_dir+'/model_epoch%03d.h5' % epoch_loaded\n",
    "\n",
    "if epoch_loaded > 0:\n",
    "    # Load the model. Note that we have to explicitly give it the customLoss function\n",
    "    # since it will otherwise give a ValueError complaining that it doesn't know\n",
    "    # what customLoss is.\n",
    "    print('Loading model: ' + fname)\n",
    "    model = load_model( fname, custom_objects={'customLoss':customLoss} )\n",
    "else:\n",
    "    print('Unable to find saved model. Will start from scratch')\n",
    "    model = DefineModel()\n",
    "    epoch_loaded = 0\n",
    "\n",
    "# Print summary of model\n",
    "model.summary()"
   ]
  },
  {
   "cell_type": "markdown",
   "metadata": {},
   "source": [
    "## Fit the model\n",
    "\n",
    "In the following cell I fit the model. I set up the *checkPointModel* class to save the model at the end of every epoch. \n",
    "\n",
    "The number of epochs and the batch size are set here. "
   ]
  },
  {
   "cell_type": "code",
   "execution_count": 13,
   "metadata": {},
   "outputs": [
    {
     "name": "stdout",
     "output_type": "stream",
     "text": [
      "saving model: /home/davidl/work2/2020.08.12.ML_challenge6/model_checkpoints_part1/model_epoch000.h5\n",
      "  y_labels shape: (190071, 5)\n",
      "x_waveform shape: (190071, 128)\n",
      "Epoch 1/2\n",
      "y_pred shape: (None, 5)\n",
      "y_true shape: (None, 5)\n",
      "y_pred shape: (None, 5)\n",
      "y_true shape: (None, 5)\n",
      "1516/1521 [============================>.] - ETA: 0s - loss: 3027.0913 - mae: 13.2684 - mse: 3027.0913 - accuracy: 0.5106y_pred shape: (None, 5)\n",
      "y_true shape: (None, 5)\n",
      "removing old model: /home/davidl/work2/2020.08.12.ML_challenge6/model_checkpoints_part1/model_epoch000.h5\n",
      "saving model: /home/davidl/work2/2020.08.12.ML_challenge6/model_checkpoints_part1/model_epoch001.h5\n",
      "1521/1521 [==============================] - 11s 7ms/step - loss: 3029.6106 - mae: 13.2702 - mse: 3029.6106 - accuracy: 0.5110 - val_loss: 2946.4744 - val_mae: 12.9829 - val_mse: 2946.4741 - val_accuracy: 0.6486\n",
      "Epoch 2/2\n",
      "1515/1521 [============================>.] - ETA: 0s - loss: 2810.3784 - mae: 12.8822 - mse: 2810.3784 - accuracy: 0.7497removing old model: /home/davidl/work2/2020.08.12.ML_challenge6/model_checkpoints_part1/model_epoch001.h5\n",
      "saving model: /home/davidl/work2/2020.08.12.ML_challenge6/model_checkpoints_part1/model_epoch002.h5\n",
      "1521/1521 [==============================] - 11s 7ms/step - loss: 2805.8931 - mae: 12.8779 - mse: 2805.8931 - accuracy: 0.7499 - val_loss: 2722.8596 - val_mae: 12.5717 - val_mse: 2722.8596 - val_accuracy: 0.7958\n"
     ]
    }
   ],
   "source": [
    "#-----------------------------------------------------\n",
    "# class checkpointModel\n",
    "#-----------------------------------------------------\n",
    "# There is a bug in keras that causes an error when trying to save a model\n",
    "# trained on multiple GPUs. The work around is to save the original model\n",
    "# at the end of every epoch using a callback. See\n",
    "#    https://github.com/keras-team/kersas/issues/8694\n",
    "if not os.path.exists(checkpoints_dir): os.mkdir(checkpoints_dir)\n",
    "class checkpointModel(Callback):\n",
    "    def __init__(self, model):\n",
    "        self.model_to_save = model\n",
    "    def on_epoch_end(self, epoch, logs=None):\n",
    "        myepoch = epoch_loaded + epoch +1\n",
    "        fname = checkpoints_dir+'/model_epoch%03d.h5' % myepoch\n",
    "        old_fname = checkpoints_dir+'/model_epoch%03d.h5' % (myepoch-1)\n",
    "        if os.path.exists( old_fname ):\n",
    "            print('removing old model: %s' % old_fname)\n",
    "            os.remove( old_fname )\n",
    "        print('saving model: %s' % fname)\n",
    "        self.model_to_save.save(fname)\n",
    "cbk = checkpointModel( model )\n",
    "\n",
    "cbk.on_epoch_end(-1)\n",
    "\n",
    "EPOCHS = 2  # (in addition to anything already done)\n",
    "BS     = 100\n",
    "\n",
    "if epoch_loaded>0 : EPOCHS += epoch_loaded\n",
    "\n",
    "# Inputs features and labels are all contained in the same row of the input file.\n",
    "# Create new dataframes here that slice off the appropriate columns for labels\n",
    "# and features.\n",
    "y_labels      = df.iloc[:, 0:5]   # Peel off only 5 labels\n",
    "x_waveform    = df.iloc[:,5:133]  # Peel off 128 waveform samples\n",
    "print('  y_labels shape: ' + str(y_labels.shape))\n",
    "print('x_waveform shape: ' + str(x_waveform.shape))\n",
    "\n",
    "# Fit the model\n",
    "history = model.fit(\n",
    "    x = x_waveform,\n",
    "    y = y_labels,\n",
    "    batch_size = BS,\n",
    "    epochs=EPOCHS,\n",
    "    callbacks=[cbk],\n",
    "    validation_split=0.2,\n",
    "    shuffle=True,\n",
    "    initial_epoch = epoch_loaded,\n",
    "    use_multiprocessing=False\n",
    ")\n"
   ]
  },
  {
   "cell_type": "markdown",
   "metadata": {},
   "source": [
    "# Make images of waveforms\n",
    "\n",
    "Here I make PNG images of several waveforms. The first row is just the first 8 from the file. The second row of 8 comes from entries with only a single pulse identified. The 3rd row of 8 comes from entries with 2 pulses indentified.\n",
    "\n",
    "The numbers in the input file look to represent pedestal subtracted negative pulses with the values themselves being negative when the signal is \"above\" pedestal. For these plots, I flipped it so that the pulses are displayed as positive and are shifted by 100 units. I also truncated the plots to be only 512 units above pedestal. This means any value in the file that is below -512 will be plotted at the top line in the images and any values above +100 in the file will be plotting at the bottom line of the image.\n",
    "\n",
    "Originally, the images were made by just coloring the pixel at the value which was harded to look at since it was just a bunch of dots. The option was added to draw lines. For this, it means coloring a vertical column from the actual pixel value to "
   ]
  },
  {
   "cell_type": "code",
   "execution_count": 7,
   "metadata": {},
   "outputs": [
    {
     "data": {
      "text/html": [
       "<table><td><img style='width: 128px; margin: 2px; border: 1px solid blue;' src='all/all_waveform_000000.png' /></td><td><img style='width: 128px; margin: 2px; border: 1px solid blue;' src='all/all_waveform_000001.png' /></td><td><img style='width: 128px; margin: 2px; border: 1px solid blue;' src='all/all_waveform_000002.png' /></td><td><img style='width: 128px; margin: 2px; border: 1px solid blue;' src='all/all_waveform_000003.png' /></td><td><img style='width: 128px; margin: 2px; border: 1px solid blue;' src='all/all_waveform_000004.png' /></td><td><img style='width: 128px; margin: 2px; border: 1px solid blue;' src='all/all_waveform_000005.png' /></td><td><img style='width: 128px; margin: 2px; border: 1px solid blue;' src='all/all_waveform_000006.png' /></td><td><img style='width: 128px; margin: 2px; border: 1px solid blue;' src='all/all_waveform_000007.png' /></td>"
      ],
      "text/plain": [
       "<IPython.core.display.HTML object>"
      ]
     },
     "metadata": {},
     "output_type": "display_data"
    },
    {
     "data": {
      "text/html": [
       "<table><td><img style='width: 128px; margin: 2px; border: 1px solid blue;' src='one_pulse/one_pulse_lines_waveform_000000.png' /></td><td><img style='width: 128px; margin: 2px; border: 1px solid blue;' src='one_pulse/one_pulse_lines_waveform_000001.png' /></td><td><img style='width: 128px; margin: 2px; border: 1px solid blue;' src='one_pulse/one_pulse_lines_waveform_000002.png' /></td><td><img style='width: 128px; margin: 2px; border: 1px solid blue;' src='one_pulse/one_pulse_lines_waveform_000003.png' /></td><td><img style='width: 128px; margin: 2px; border: 1px solid blue;' src='one_pulse/one_pulse_lines_waveform_000004.png' /></td><td><img style='width: 128px; margin: 2px; border: 1px solid blue;' src='one_pulse/one_pulse_lines_waveform_000005.png' /></td><td><img style='width: 128px; margin: 2px; border: 1px solid blue;' src='one_pulse/one_pulse_lines_waveform_000006.png' /></td><td><img style='width: 128px; margin: 2px; border: 1px solid blue;' src='one_pulse/one_pulse_lines_waveform_000007.png' /></td>"
      ],
      "text/plain": [
       "<IPython.core.display.HTML object>"
      ]
     },
     "metadata": {},
     "output_type": "display_data"
    },
    {
     "data": {
      "text/html": [
       "<table><td><img style='width: 128px; margin: 2px; border: 1px solid blue;' src='two_pulse/two_pulse_waveform_000000.png' /></td><td><img style='width: 128px; margin: 2px; border: 1px solid blue;' src='two_pulse/two_pulse_waveform_000001.png' /></td><td><img style='width: 128px; margin: 2px; border: 1px solid blue;' src='two_pulse/two_pulse_waveform_000002.png' /></td><td><img style='width: 128px; margin: 2px; border: 1px solid blue;' src='two_pulse/two_pulse_waveform_000003.png' /></td><td><img style='width: 128px; margin: 2px; border: 1px solid blue;' src='two_pulse/two_pulse_waveform_000004.png' /></td><td><img style='width: 128px; margin: 2px; border: 1px solid blue;' src='two_pulse/two_pulse_waveform_000005.png' /></td><td><img style='width: 128px; margin: 2px; border: 1px solid blue;' src='two_pulse/two_pulse_waveform_000006.png' /></td><td><img style='width: 128px; margin: 2px; border: 1px solid blue;' src='two_pulse/two_pulse_waveform_000007.png' /></td>"
      ],
      "text/plain": [
       "<IPython.core.display.HTML object>"
      ]
     },
     "metadata": {},
     "output_type": "display_data"
    }
   ],
   "source": [
    "from IPython.display import Image, HTML, display\n",
    "import png\n",
    "import os\n",
    "\n",
    "# Generate one PNG image file for the specified entry and dataframe.\n",
    "# The drawlines option can set whether to draw lines between points.\n",
    "# The prefix value will be prepended on the outpout filenames.\n",
    "def MakeImage(irow, drawlines=False, mydf=df, prefix='', dirname='.'):\n",
    "    row = mydf.iloc[irow][5:].tolist()\n",
    "    \n",
    "    width  = 128\n",
    "    height = 512+100\n",
    "    img = []\n",
    "    for y in range(height):\n",
    "        r = [255]*width\n",
    "        img.append(r)\n",
    "\n",
    "    for icol in range(width):\n",
    "        yval = (100-int(row[icol]))  # For positive pulses: height - (100-int(row[icol]))\n",
    "        yval = min(height-1, max(0, yval))\n",
    "        img[yval][icol] = 0\n",
    "        \n",
    "        # Optionally draw lines between the dots\n",
    "        if drawlines:\n",
    "            if icol>0 :\n",
    "                ymid = (int)((yval + last_yval)/2)\n",
    "                ylo = min(last_yval, ymid)\n",
    "                yhi = max(last_yval, ymid)\n",
    "                for ylin in range(ylo, yhi): img[ylin][icol-1] = 0\n",
    "                ylo = min(ymid, yval)\n",
    "                yhi = max(ymid, yval)\n",
    "                for ylin in range(ylo, yhi): img[ylin][icol-1] = 0\n",
    "            last_yval = yval\n",
    "    fname = prefix+'waveform_%06d.png' % irow\n",
    "    if dirname != '.':\n",
    "        try:\n",
    "            os.makedirs(dirname)\n",
    "        except:\n",
    "            pass  # assume excpetion is because it already exists\n",
    "        fname = os.path.join(dirname, fname)\n",
    "    with open(fname, 'wb') as f:    \n",
    "        w = png.Writer(width, height, greyscale=True)\n",
    "        w.write(f, img)\n",
    "        #print('Wrote file: ' + fname)\n",
    "    return fname\n",
    "\n",
    "# Generate PNG files for several waveforms and then return an HTML string that displays\n",
    "# them all on one row.\n",
    "def MakeHTML(mydf=df, Nentries=8, offset=0, prefix='', dirname='.', drawlines=True):\n",
    "    pngimages = [MakeImage(e+offset, drawlines=drawlines, mydf=mydf, prefix=prefix, dirname=dirname) for e in range(Nentries)]\n",
    "    imgs_html = []\n",
    "    for fname in pngimages:\n",
    "        imgs_html.append(\"<img style='width: 128px; margin: 2px; border: 1px solid blue;' src='%s' />\" % fname)\n",
    "\n",
    "    html = \"<table>\"\n",
    "    for a in imgs_html: html += '<td>' + a + '</td>'\n",
    "    return html\n",
    "\n",
    "# Create PNG files for the first 8 waveforms, then the first 8 with one\n",
    "# identified pulse, then the first 8 with 2 identified pulses.\n",
    "display( HTML(MakeHTML(df, prefix='all_', dirname='all')) )\n",
    "display( HTML(MakeHTML(dfA1_not_A2, prefix='one_pulse_lines_', dirname='one_pulse')) )\n",
    "display( HTML(MakeHTML(dfA2, prefix='two_pulse_', dirname='two_pulse')) )\n",
    "mydf.head()"
   ]
  },
  {
   "cell_type": "markdown",
   "metadata": {},
   "source": [
    "### For comparison, draw the first 8 single pulse waveforms without connecting lines"
   ]
  },
  {
   "cell_type": "code",
   "execution_count": 8,
   "metadata": {},
   "outputs": [
    {
     "data": {
      "text/html": [
       "<table><td><img style='width: 128px; margin: 2px; border: 1px solid blue;' src='one_pulse_dots/one_pulse_dots_waveform_000000.png' /></td><td><img style='width: 128px; margin: 2px; border: 1px solid blue;' src='one_pulse_dots/one_pulse_dots_waveform_000001.png' /></td><td><img style='width: 128px; margin: 2px; border: 1px solid blue;' src='one_pulse_dots/one_pulse_dots_waveform_000002.png' /></td><td><img style='width: 128px; margin: 2px; border: 1px solid blue;' src='one_pulse_dots/one_pulse_dots_waveform_000003.png' /></td><td><img style='width: 128px; margin: 2px; border: 1px solid blue;' src='one_pulse_dots/one_pulse_dots_waveform_000004.png' /></td><td><img style='width: 128px; margin: 2px; border: 1px solid blue;' src='one_pulse_dots/one_pulse_dots_waveform_000005.png' /></td><td><img style='width: 128px; margin: 2px; border: 1px solid blue;' src='one_pulse_dots/one_pulse_dots_waveform_000006.png' /></td><td><img style='width: 128px; margin: 2px; border: 1px solid blue;' src='one_pulse_dots/one_pulse_dots_waveform_000007.png' /></td>"
      ],
      "text/plain": [
       "<IPython.core.display.HTML object>"
      ]
     },
     "metadata": {},
     "output_type": "display_data"
    }
   ],
   "source": [
    "display( HTML(MakeHTML(dfA1_not_A2, prefix='one_pulse_dots_', dirname='one_pulse_dots', drawlines=False)) )"
   ]
  },
  {
   "cell_type": "markdown",
   "metadata": {},
   "source": [
    "### Generate image sets\n",
    "\n",
    "Here I generate PNG files for each of the two and one pulse images. To avoid placing 60k files in the same directory for the one pulse waveforms, I break it up into ~60 directories with 1k files each. I also want to write image sets with lines and with dots. Thus, I define a routine to do this that takes the few parameters that need to be specified for each image set. Note that I generate a labels file in the top_dir of each image set that contains relative filenames and a custom set of labels. This is so I could drop the A2,t2 labels from the one pulse images. Thinking about it some more though, it probably makes sense just to keep the labels in the same format for all sets so I can more easily do tests later with a model generated from one applied to the other. Oh well, I'll leave the routine definition as it is and just pass in the same labels when I call it."
   ]
  },
  {
   "cell_type": "code",
   "execution_count": 39,
   "metadata": {},
   "outputs": [],
   "source": [
    "# Write a set of images using the specified dataframe and other parameters\n",
    "def WriteImageSet(mydf, top_dir, col_names, drawlines):\n",
    "    Ntotal = len(mydf)\n",
    "    N_per_directory = 1000\n",
    "    Ndirs = int(Ntotal/N_per_directory)+1\n",
    "\n",
    "    # Open labels file\n",
    "    f = open(top_dir+'/labels.csv', 'w')\n",
    "    f.write('filename,%s\\n' % ','.join(col_names))\n",
    "\n",
    "    # Generate PNG image files \n",
    "    N = 0\n",
    "    for i in range(Ndirs):\n",
    "        dirname = top_dir + '/%02d' % i\n",
    "        istart = i*N_per_directory\n",
    "        if istart >= Ntotal: break\n",
    "        iend = istart + N_per_directory\n",
    "        if iend >= Ntotal: iend = Ntotal\n",
    "        for j in range(istart, iend):\n",
    "            fname = MakeImage(j, drawlines=drawlines, mydf=mydf, prefix='two_pulse_', dirname=dirname)\n",
    "            fname = fname.split(top_dir+'/')[1] # drop top_dir part of path and just write relative path\n",
    "            row = mydf.iloc[j]\n",
    "            v = [row[col] for col in col_names]     # list of values in order of col_names\n",
    "            valstr = ','.join([str(a) for a in v])  # make comma separated list of labels in order of col_names\n",
    "            f.write('%s,%s\\n' % (fname, valstr) )\n",
    "            N = N+1\n",
    "\n",
    "    # Close labels file\n",
    "    f.close()\n",
    "    \n",
    "    print('Wrote %d images to %s' % (N, top_dir))"
   ]
  },
  {
   "cell_type": "code",
   "execution_count": 40,
   "metadata": {},
   "outputs": [
    {
     "name": "stdout",
     "output_type": "stream",
     "text": [
      "Wrote 1071 images to /work/halld2/home/davidl/2020.08.12.ML_challenge6/PNG/two_pulse_lines\n"
     ]
    }
   ],
   "source": [
    "# Two pulse - lines\n",
    "mydf = dfA2\n",
    "top_dir = '/work/halld2/home/davidl/2020.08.12.ML_challenge6/PNG/two_pulse_lines'\n",
    "col_names = ['ped','A1','t1','A2','t2']\n",
    "drawlines = True\n",
    "WriteImageSet(mydf, top_dir, col_names, drawlines)"
   ]
  },
  {
   "cell_type": "code",
   "execution_count": 41,
   "metadata": {},
   "outputs": [
    {
     "name": "stdout",
     "output_type": "stream",
     "text": [
      "Wrote 1071 images to /work/halld2/home/davidl/2020.08.12.ML_challenge6/PNG/two_pulse_dots\n"
     ]
    }
   ],
   "source": [
    "# Two pulse - dots\n",
    "mydf = dfA2\n",
    "top_dir = '/work/halld2/home/davidl/2020.08.12.ML_challenge6/PNG/two_pulse_dots'\n",
    "col_names = ['ped','A1','t1','A2','t2']\n",
    "drawlines = False\n",
    "WriteImageSet(mydf, top_dir, col_names, drawlines)"
   ]
  },
  {
   "cell_type": "code",
   "execution_count": 37,
   "metadata": {},
   "outputs": [
    {
     "name": "stdout",
     "output_type": "stream",
     "text": [
      "Wrote 63000 images to /work/halld2/home/davidl/2020.08.12.ML_challenge6/PNG/one_pulse_lines\n"
     ]
    }
   ],
   "source": [
    "# One pulse - lines\n",
    "mydf = dfA1_not_A2\n",
    "top_dir = '/work/halld2/home/davidl/2020.08.12.ML_challenge6/PNG/one_pulse_lines'\n",
    "col_names = ['ped','A1','t1','A2','t2']\n",
    "drawlines = True\n",
    "WriteImageSet(mydf, top_dir, col_names, drawlines)"
   ]
  },
  {
   "cell_type": "code",
   "execution_count": 38,
   "metadata": {},
   "outputs": [
    {
     "name": "stdout",
     "output_type": "stream",
     "text": [
      "Wrote 63000 images to /work/halld2/home/davidl/2020.08.12.ML_challenge6/PNG/one_pulse_dots\n"
     ]
    }
   ],
   "source": [
    "# One pulse - dots\n",
    "mydf = dfA1_not_A2\n",
    "top_dir = '/work/halld2/home/davidl/2020.08.12.ML_challenge6/PNG/one_pulse_dots'\n",
    "col_names = ['ped','A1','t1','A2','t2']\n",
    "drawlines = False\n",
    "WriteImageSet(mydf, top_dir, col_names, drawlines)"
   ]
  },
  {
   "cell_type": "code",
   "execution_count": null,
   "metadata": {},
   "outputs": [],
   "source": []
  }
 ],
 "metadata": {
  "kernelspec": {
   "display_name": "venv_2020.10.13.tf2.3.1",
   "language": "python",
   "name": "venv_2020.10.13.tf2.3.1"
  },
  "language_info": {
   "codemirror_mode": {
    "name": "ipython",
    "version": 3
   },
   "file_extension": ".py",
   "mimetype": "text/x-python",
   "name": "python",
   "nbconvert_exporter": "python",
   "pygments_lexer": "ipython3",
   "version": "3.7.3"
  }
 },
 "nbformat": 4,
 "nbformat_minor": 4
}
