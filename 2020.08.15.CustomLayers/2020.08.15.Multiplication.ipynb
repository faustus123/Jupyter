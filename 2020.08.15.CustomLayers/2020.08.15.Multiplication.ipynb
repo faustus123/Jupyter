{
 "cells": [
  {
   "cell_type": "markdown",
   "metadata": {},
   "source": [
    "# Multiplying 2 numbers with a Deep Network\n",
    "\n",
    "One of the great powers of deep nueral networks is their ability to model very complex functions without requiring much knowledge from the person building the model. This means you only need a relatively small number of building blocks to estimate any function, provided you add enough nodes.\n",
    "\n",
    "In this example I want to build a model that multiplies 2 numbers whose values range from -10 to +10 using a deep network. There are a couple ways to get a mathematical multiply operation in Keras layers, but here I'm going to do it with an MLP using Keras Dense layers.\n",
    "\n",
    "In this first cell, I define the model. It is a little more complicated than it probably needs to be since I copied it from another project that could use multiple GPUs for the training. It also builds the model from 2 parts: *DefineCommonModel* and *DefineCommonOutput* (also a left over). I stick with linear and tanh activation functions since they can both easily deal with negative numbers.\n",
    "\n",
    "The model itself has over 6M trainable parameters."
   ]
  },
  {
   "cell_type": "code",
   "execution_count": 1,
   "metadata": {},
   "outputs": [
    {
     "name": "stdout",
     "output_type": "stream",
     "text": [
      "Model: \"model\"\n",
      "_________________________________________________________________\n",
      "Layer (type)                 Output Shape              Param #   \n",
      "=================================================================\n",
      "waveform (InputLayer)        [(None, 2)]               0         \n",
      "_________________________________________________________________\n",
      "top_layer1 (Flatten)         (None, 2)                 0         \n",
      "_________________________________________________________________\n",
      "common_layer1 (Dense)        (None, 1000)              3000      \n",
      "_________________________________________________________________\n",
      "common_layer2 (Dense)        (None, 1000)              1001000   \n",
      "_________________________________________________________________\n",
      "common_layer3 (Dense)        (None, 1000)              1001000   \n",
      "_________________________________________________________________\n",
      "common_layer4 (Dense)        (None, 1000)              1001000   \n",
      "_________________________________________________________________\n",
      "common_layer5 (Dense)        (None, 1000)              1001000   \n",
      "_________________________________________________________________\n",
      "common_out1 (Dense)          (None, 1000)              1001000   \n",
      "_________________________________________________________________\n",
      "common_out2 (Dense)          (None, 1000)              1001000   \n",
      "_________________________________________________________________\n",
      "common_out3 (Dense)          (None, 200)               200200    \n",
      "_________________________________________________________________\n",
      "outputs (Dense)              (None, 1)                 201       \n",
      "=================================================================\n",
      "Total params: 6,209,401\n",
      "Trainable params: 6,209,401\n",
      "Non-trainable params: 0\n",
      "_________________________________________________________________\n"
     ]
    }
   ],
   "source": [
    "from tensorflow.keras.models import load_model\n",
    "from tensorflow.keras.models import Model\n",
    "from tensorflow.keras.layers import Dense, Reshape, Flatten, Input, Lambda\n",
    "from tensorflow.keras.optimizers import SGD, Adamax, Adadelta\n",
    "from tensorflow.keras.callbacks import Callback, TensorBoard\n",
    "import tensorflow.keras.backend as K\n",
    "import tensorflow.keras.losses\n",
    "import tensorflow as tf\n",
    "\n",
    "GPUS    = 0\n",
    "NINPUTS = 2\n",
    "Nouts   = 200\n",
    "\n",
    "#-----------------------------------------------------\n",
    "# DefineModel\n",
    "#-----------------------------------------------------\n",
    "# This is used to define the model. It is only called if no model\n",
    "# file is found in the model_checkpoints directory.\n",
    "def DefineModel():\n",
    "\n",
    "    # If GPUS==0 this will force use of CPU, even if GPUs are present\n",
    "    # If GPUS>1 this will force the CPU to serve as orchestrator\n",
    "    # If GPUS==1 this will do nothing, allowing GPU to act as its own orchestrator\n",
    "    if GPUS!=1: tf.device('/cpu:0')\n",
    "\n",
    "    # Here we build the network model.\n",
    "    # This model is made of multiple parts. The first handles the\n",
    "    # inputs and identifies common features. The rest are branches with\n",
    "    # each determining an output parameter from those features.\n",
    "    inputs         = Input(shape=(NINPUTS,), name='waveform')\n",
    "    commonmodel    = DefineCommonModel(inputs)\n",
    "    commonoutput   = DefineCommonOutput(commonmodel)\n",
    "\n",
    "    model          = Model(inputs=inputs, outputs=commonoutput)\n",
    "\n",
    "    # Compile the model, possibly using multiple GPUs\n",
    "    opt = Adadelta(clipnorm=1.0)\n",
    "    if GPUS<=1 :\n",
    "        final_model = model\n",
    "    else:\n",
    "        final_model = multi_gpu_model( model, gpus=GPUS )\n",
    "\n",
    "    #final_model.add_loss(customLoss( input_true, commonoutput, input_incov ) )\n",
    "    final_model.compile(loss='mse', optimizer=opt, metrics=['mae', 'mse', 'accuracy'])\n",
    "    \n",
    "    return final_model\n",
    "\n",
    "#-----------------------------------------------------\n",
    "# DefineCommonModel\n",
    "#-----------------------------------------------------\n",
    "def DefineCommonModel(inputs):\n",
    "    x = Flatten(name='top_layer1')(inputs)\n",
    "    x = Dense(int(Nouts*5), name='common_layer1', activation='linear', kernel_initializer=\"glorot_uniform\")(x)\n",
    "    x = Dense(int(Nouts*5), name='common_layer2', activation='tanh', kernel_initializer=\"glorot_uniform\")(x)\n",
    "    x = Dense(int(Nouts*5), name='common_layer3', activation='linear', kernel_initializer=\"glorot_uniform\")(x)\n",
    "    x = Dense(int(Nouts*5), name='common_layer4', activation='tanh', kernel_initializer=\"glorot_uniform\")(x)\n",
    "    x = Dense(int(Nouts*5), name='common_layer5', activation='linear', kernel_initializer=\"glorot_uniform\")(x)\n",
    "    return x\n",
    "\n",
    "#-----------------------------------------------------\n",
    "# DefineCommonOutput\n",
    "#-----------------------------------------------------\n",
    "def DefineCommonOutput(inputs):\n",
    "    #x = tf.keras.layers.concatenate( inputs )\n",
    "    x = Dense(Nouts*5, name='common_out1', activation='linear', kernel_initializer=\"glorot_uniform\")(inputs)\n",
    "    x = Dense(Nouts*5, name='common_out2', activation='tanh', kernel_initializer=\"glorot_uniform\")(x)\n",
    "    x = Dense(Nouts, name='common_out3', activation='linear', kernel_initializer=\"glorot_uniform\")(x)\n",
    "    x = Dense(1, name='outputs', activation='linear', kernel_initializer=\"glorot_uniform\")(x)\n",
    "    return x\n",
    "\n",
    "model = DefineModel()\n",
    "model.summary()"
   ]
  },
  {
   "cell_type": "markdown",
   "metadata": {},
   "source": [
    "## Generate training set and fit\n",
    "\n",
    "In these next two cells I generate a training set and fit the model, but only for a few epochs with a large batch size."
   ]
  },
  {
   "cell_type": "code",
   "execution_count": 2,
   "metadata": {},
   "outputs": [],
   "source": [
    "# \n",
    "# Generate dataframes for features and labels\n",
    "#\n",
    "import pandas as pd\n",
    "import numpy as np\n",
    "\n",
    "X = []\n",
    "Z = []\n",
    "for x in np.arange(-10.0, 10.1, 0.1):\n",
    "    for y in np.arange(-10.0, 10.1, 0.1):\n",
    "        z = x*y\n",
    "        X.append([x,y])  # features\n",
    "        Z.append([z])    # labels\n",
    "\n",
    "df = pd.DataFrame(X, columns=['x', 'y'])\n",
    "labelsdf = pd.DataFrame(Z, columns=['z'])"
   ]
  },
  {
   "cell_type": "code",
   "execution_count": 4,
   "metadata": {},
   "outputs": [],
   "source": [
    "EPOCHS = 10  # (in addition to anything already done)\n",
    "BS     = 1000\n",
    "\n",
    "# Fit the model\n",
    "history = model.fit(\n",
    "    x = df,\n",
    "    y = labelsdf,\n",
    "    batch_size = BS,\n",
    "    epochs=EPOCHS,\n",
    "    #validation_split=0.2,\n",
    "    shuffle=True,\n",
    "    verbose=0,\n",
    "    use_multiprocessing=False\n",
    ")\n",
    "\n",
    "model.save('multiply_model01.h5')"
   ]
  },
  {
   "cell_type": "code",
   "execution_count": 5,
   "metadata": {},
   "outputs": [
    {
     "data": {
      "image/png": "[encoded data removed]",
      "text/plain": [
       "<Figure size 432x288 with 1 Axes>"
      ]
     },
     "metadata": {
      "needs_background": "light"
     },
     "output_type": "display_data"
    }
   ],
   "source": [
    "import matplotlib.pyplot as plt\n",
    "\n",
    "# Plot history: MAE\n",
    "plt.yscale('log')\n",
    "plt.plot(history.history['loss'], label='MAE (training data)')\n",
    "#plt.plot(history.history['val_loss'], label='MAE (validation data)')\n",
    "plt.title('MAE for Two number multiplication')\n",
    "plt.ylabel('MAE value')\n",
    "plt.xlabel('No. epoch')\n",
    "plt.legend(loc=\"upper left\")\n",
    "plt.show()"
   ]
  },
  {
   "cell_type": "code",
   "execution_count": 6,
   "metadata": {},
   "outputs": [
    {
     "name": "stdout",
     "output_type": "stream",
     "text": [
      "[[0.5176523 ]\n",
      " [0.51282898]\n",
      " [0.50792043]\n",
      " [0.5029245 ]\n",
      " [0.49783895]\n",
      " [0.49266139]\n",
      " [0.48738957]\n",
      " [0.482021  ]\n",
      " [0.47655314]\n",
      " [0.47098343]]\n"
     ]
    }
   ],
   "source": [
    "Xtest = []\n",
    "Ztest = []\n",
    "for x in np.arange(-9.95, 10.05, 0.1):\n",
    "    for y in np.arange(-9.95, 10.05, 0.1):\n",
    "#for x in np.arange(-10.0, 10.1, 0.1):\n",
    "#    for y in np.arange(-10.0, 10.1, 0.1):\n",
    "        z = x*y\n",
    "        Xtest.append([x,y])  # features\n",
    "        Ztest.append([z])    # labels\n",
    "\n",
    "df_test = pd.DataFrame(Xtest, columns=['x', 'y'])\n",
    "\n",
    "y_pred = model(df_test).numpy()\n",
    "diff = (Ztest - y_pred)/Ztest\n",
    "print(diff[:10])\n"
   ]
  },
  {
   "cell_type": "code",
   "execution_count": null,
   "metadata": {},
   "outputs": [],
   "source": [
    "9.95*9.95"
   ]
  },
  {
   "cell_type": "code",
   "execution_count": null,
   "metadata": {},
   "outputs": [],
   "source": []
  }
 ],
 "metadata": {
  "kernelspec": {
   "display_name": "venv_2020.06.02",
   "language": "python",
   "name": "venv_2020.06.02"
  },
  "language_info": {
   "codemirror_mode": {
    "name": "ipython",
    "version": 3
   },
   "file_extension": ".py",
   "mimetype": "text/x-python",
   "name": "python",
   "nbconvert_exporter": "python",
   "pygments_lexer": "ipython3",
   "version": "3.7.3"
  }
 },
 "nbformat": 4,
 "nbformat_minor": 4
}
