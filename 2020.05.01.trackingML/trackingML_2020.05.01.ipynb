{
 "cells": [
  {
   "cell_type": "markdown",
   "metadata": {},
   "source": [
    "# trackingML: DL with GlueX Fall 2018 data\n",
    "\n",
    "This is an attempt to develop a deep learning model that can fit tracks from run 51727 from the Fall 2018 GlueX data set. The heavy lifting will be done on the GPU nodes, but initial data viewing and development done here for convenience."
   ]
  },
  {
   "cell_type": "code",
   "execution_count": 20,
   "metadata": {},
   "outputs": [
    {
     "name": "stdout",
     "output_type": "stream",
     "text": [
      "Number of tracks: 10000\n"
     ]
    },
    {
     "data": {
      "text/html": [
       "<div>\n",
       "<style scoped>\n",
       "    .dataframe tbody tr th:only-of-type {\n",
       "        vertical-align: middle;\n",
       "    }\n",
       "\n",
       "    .dataframe tbody tr th {\n",
       "        vertical-align: top;\n",
       "    }\n",
       "\n",
       "    .dataframe thead th {\n",
       "        text-align: right;\n",
       "    }\n",
       "</style>\n",
       "<table border=\"1\" class=\"dataframe\">\n",
       "  <thead>\n",
       "    <tr style=\"text-align: right;\">\n",
       "      <th></th>\n",
       "      <th>event</th>\n",
       "      <th>t_start_cntr</th>\n",
       "      <th>t_start_cntr_valid</th>\n",
       "      <th>t_tof</th>\n",
       "      <th>t_tof_valid</th>\n",
       "      <th>t_bcal</th>\n",
       "      <th>t_bcal_valid</th>\n",
       "      <th>t_fcal</th>\n",
       "      <th>t_fcal_valid</th>\n",
       "      <th>CDC_ring1_straw1</th>\n",
       "      <th>...</th>\n",
       "      <th>FDC_layer24_wire87</th>\n",
       "      <th>FDC_layer24_wire88</th>\n",
       "      <th>FDC_layer24_wire89</th>\n",
       "      <th>FDC_layer24_wire90</th>\n",
       "      <th>FDC_layer24_wire91</th>\n",
       "      <th>FDC_layer24_wire92</th>\n",
       "      <th>FDC_layer24_wire93</th>\n",
       "      <th>FDC_layer24_wire94</th>\n",
       "      <th>FDC_layer24_wire95</th>\n",
       "      <th>FDC_layer24_wire96</th>\n",
       "    </tr>\n",
       "  </thead>\n",
       "  <tbody>\n",
       "    <tr>\n",
       "      <th>0</th>\n",
       "      <td>29</td>\n",
       "      <td>1000.0</td>\n",
       "      <td>0</td>\n",
       "      <td>5.94568</td>\n",
       "      <td>1</td>\n",
       "      <td>1000.0</td>\n",
       "      <td>0</td>\n",
       "      <td>1000.0</td>\n",
       "      <td>0</td>\n",
       "      <td>1000.0</td>\n",
       "      <td>...</td>\n",
       "      <td>1000.0</td>\n",
       "      <td>1000.0</td>\n",
       "      <td>1000.0</td>\n",
       "      <td>1000.0</td>\n",
       "      <td>1000.0</td>\n",
       "      <td>1000.0</td>\n",
       "      <td>1000</td>\n",
       "      <td>1000.0</td>\n",
       "      <td>1000.0</td>\n",
       "      <td>1000.0</td>\n",
       "    </tr>\n",
       "    <tr>\n",
       "      <th>1</th>\n",
       "      <td>29</td>\n",
       "      <td>1000.0</td>\n",
       "      <td>0</td>\n",
       "      <td>1000.00000</td>\n",
       "      <td>0</td>\n",
       "      <td>1000.0</td>\n",
       "      <td>0</td>\n",
       "      <td>1000.0</td>\n",
       "      <td>0</td>\n",
       "      <td>1000.0</td>\n",
       "      <td>...</td>\n",
       "      <td>1000.0</td>\n",
       "      <td>1000.0</td>\n",
       "      <td>1000.0</td>\n",
       "      <td>1000.0</td>\n",
       "      <td>1000.0</td>\n",
       "      <td>1000.0</td>\n",
       "      <td>1000</td>\n",
       "      <td>1000.0</td>\n",
       "      <td>1000.0</td>\n",
       "      <td>1000.0</td>\n",
       "    </tr>\n",
       "    <tr>\n",
       "      <th>2</th>\n",
       "      <td>25</td>\n",
       "      <td>1000.0</td>\n",
       "      <td>0</td>\n",
       "      <td>1.45875</td>\n",
       "      <td>1</td>\n",
       "      <td>1000.0</td>\n",
       "      <td>0</td>\n",
       "      <td>1000.0</td>\n",
       "      <td>0</td>\n",
       "      <td>1000.0</td>\n",
       "      <td>...</td>\n",
       "      <td>1000.0</td>\n",
       "      <td>1000.0</td>\n",
       "      <td>1000.0</td>\n",
       "      <td>1000.0</td>\n",
       "      <td>1000.0</td>\n",
       "      <td>1000.0</td>\n",
       "      <td>1000</td>\n",
       "      <td>1000.0</td>\n",
       "      <td>1000.0</td>\n",
       "      <td>1000.0</td>\n",
       "    </tr>\n",
       "    <tr>\n",
       "      <th>3</th>\n",
       "      <td>33</td>\n",
       "      <td>1000.0</td>\n",
       "      <td>0</td>\n",
       "      <td>1000.00000</td>\n",
       "      <td>0</td>\n",
       "      <td>1000.0</td>\n",
       "      <td>0</td>\n",
       "      <td>1000.0</td>\n",
       "      <td>0</td>\n",
       "      <td>1000.0</td>\n",
       "      <td>...</td>\n",
       "      <td>1000.0</td>\n",
       "      <td>1000.0</td>\n",
       "      <td>1000.0</td>\n",
       "      <td>1000.0</td>\n",
       "      <td>1000.0</td>\n",
       "      <td>1000.0</td>\n",
       "      <td>1000</td>\n",
       "      <td>1000.0</td>\n",
       "      <td>1000.0</td>\n",
       "      <td>1000.0</td>\n",
       "    </tr>\n",
       "    <tr>\n",
       "      <th>4</th>\n",
       "      <td>33</td>\n",
       "      <td>1000.0</td>\n",
       "      <td>0</td>\n",
       "      <td>5.55559</td>\n",
       "      <td>1</td>\n",
       "      <td>1000.0</td>\n",
       "      <td>0</td>\n",
       "      <td>1000.0</td>\n",
       "      <td>0</td>\n",
       "      <td>1000.0</td>\n",
       "      <td>...</td>\n",
       "      <td>1000.0</td>\n",
       "      <td>1000.0</td>\n",
       "      <td>1000.0</td>\n",
       "      <td>1000.0</td>\n",
       "      <td>1000.0</td>\n",
       "      <td>1000.0</td>\n",
       "      <td>1000</td>\n",
       "      <td>1000.0</td>\n",
       "      <td>1000.0</td>\n",
       "      <td>1000.0</td>\n",
       "    </tr>\n",
       "  </tbody>\n",
       "</table>\n",
       "<p>5 rows × 5835 columns</p>\n",
       "</div>"
      ],
      "text/plain": [
       "   event  t_start_cntr  t_start_cntr_valid       t_tof  t_tof_valid  t_bcal  \\\n",
       "0     29        1000.0                   0     5.94568            1  1000.0   \n",
       "1     29        1000.0                   0  1000.00000            0  1000.0   \n",
       "2     25        1000.0                   0     1.45875            1  1000.0   \n",
       "3     33        1000.0                   0  1000.00000            0  1000.0   \n",
       "4     33        1000.0                   0     5.55559            1  1000.0   \n",
       "\n",
       "   t_bcal_valid  t_fcal  t_fcal_valid  CDC_ring1_straw1  ...  \\\n",
       "0             0  1000.0             0            1000.0  ...   \n",
       "1             0  1000.0             0            1000.0  ...   \n",
       "2             0  1000.0             0            1000.0  ...   \n",
       "3             0  1000.0             0            1000.0  ...   \n",
       "4             0  1000.0             0            1000.0  ...   \n",
       "\n",
       "   FDC_layer24_wire87  FDC_layer24_wire88  FDC_layer24_wire89  \\\n",
       "0              1000.0              1000.0              1000.0   \n",
       "1              1000.0              1000.0              1000.0   \n",
       "2              1000.0              1000.0              1000.0   \n",
       "3              1000.0              1000.0              1000.0   \n",
       "4              1000.0              1000.0              1000.0   \n",
       "\n",
       "   FDC_layer24_wire90  FDC_layer24_wire91  FDC_layer24_wire92  \\\n",
       "0              1000.0              1000.0              1000.0   \n",
       "1              1000.0              1000.0              1000.0   \n",
       "2              1000.0              1000.0              1000.0   \n",
       "3              1000.0              1000.0              1000.0   \n",
       "4              1000.0              1000.0              1000.0   \n",
       "\n",
       "   FDC_layer24_wire93  FDC_layer24_wire94  FDC_layer24_wire95  \\\n",
       "0                1000              1000.0              1000.0   \n",
       "1                1000              1000.0              1000.0   \n",
       "2                1000              1000.0              1000.0   \n",
       "3                1000              1000.0              1000.0   \n",
       "4                1000              1000.0              1000.0   \n",
       "\n",
       "   FDC_layer24_wire96  \n",
       "0              1000.0  \n",
       "1              1000.0  \n",
       "2              1000.0  \n",
       "3              1000.0  \n",
       "4              1000.0  \n",
       "\n",
       "[5 rows x 5835 columns]"
      ]
     },
     "execution_count": 20,
     "metadata": {},
     "output_type": "execute_result"
    }
   ],
   "source": [
    "import pandas as pd\n",
    "import numpy as np\n",
    "\n",
    "TRAIN_FILE  = '/home/davidl/work2/2020.04.30.trackingML/trackingML_features.csv'\n",
    "LABELS_FILE = '/home/davidl/work2/2020.04.30.trackingML/trackingML_labels.csv'\n",
    "\n",
    "# NOTE: Only reading first few rows for now since it takes a long time to read entire file\n",
    "df       = pd.read_csv(TRAIN_FILE  , nrows=10000)\n",
    "labelsdf = pd.read_csv(LABELS_FILE , nrows=10000)\n",
    "print('Number of tracks: %d' % len(df.index))\n",
    "\n",
    "df.head()"
   ]
  },
  {
   "cell_type": "markdown",
   "metadata": {},
   "source": [
    "## Print two tracks\n",
    "Here we print the column names for two of the tracks just so we can see they are reasonable in regards to the wire grouping."
   ]
  },
  {
   "cell_type": "code",
   "execution_count": 21,
   "metadata": {},
   "outputs": [
    {
     "name": "stdout",
     "output_type": "stream",
     "text": [
      "Index(['event', 't_start_cntr_valid', 't_tof', 't_tof_valid', 't_bcal_valid',\n",
      "       't_fcal_valid', 'CDC_ring1_straw7', 'CDC_ring3_straw9',\n",
      "       'CDC_ring4_straw9', 'CDC_ring5_straw20', 'CDC_ring6_straw21',\n",
      "       'CDC_ring6_straw22', 'FDC_layer3_wire73', 'FDC_layer4_wire56',\n",
      "       'FDC_layer5_wire31', 'FDC_layer6_wire23', 'FDC_layer7_wire49',\n",
      "       'FDC_layer8_wire79', 'FDC_layer9_wire78', 'FDC_layer10_wire46',\n",
      "       'FDC_layer10_wire47', 'FDC_layer12_wire19', 'FDC_layer13_wire63',\n",
      "       'FDC_layer16_wire32', 'FDC_layer17_wire6', 'FDC_layer18_wire24',\n",
      "       'FDC_layer19_wire73', 'FDC_layer20_wire92', 'FDC_layer21_wire67',\n",
      "       'FDC_layer22_wire23', 'FDC_layer23_wire5', 'FDC_layer24_wire31'],\n",
      "      dtype='object')\n",
      "Index(['event', 't_start_cntr_valid', 't_tof_valid', 't_bcal_valid',\n",
      "       't_fcal_valid', 'CDC_ring1_straw3', 'CDC_ring2_straw3',\n",
      "       'CDC_ring3_straw4', 'CDC_ring4_straw4', 'CDC_ring5_straw12',\n",
      "       'CDC_ring6_straw13', 'CDC_ring7_straw15', 'CDC_ring8_straw16',\n",
      "       'CDC_ring9_straw93', 'CDC_ring10_straw93', 'CDC_ring11_straw2',\n",
      "       'CDC_ring13_straw13', 'FDC_layer1_wire23', 'FDC_layer2_wire53',\n",
      "       'FDC_layer3_wire80', 'FDC_layer4_wire75', 'FDC_layer5_wire43',\n",
      "       'FDC_layer6_wire15', 'FDC_layer8_wire68'],\n",
      "      dtype='object')\n"
     ]
    }
   ],
   "source": [
    "# Get first row (i.e track) of df\n",
    "row = df.iloc[[0]]\n",
    "\n",
    "# Replace all values of \"1000\" with NaN\n",
    "row = row[row!=1000]\n",
    "\n",
    "# Drop all columns that have a NaN\n",
    "row = row.dropna(axis=1)\n",
    "\n",
    "# Print the column names indicating the wires hit for this track\n",
    "print(row.columns)\n",
    "\n",
    "# Same as above but for different track and more compact\n",
    "row = df.iloc[[200]]\n",
    "print(row[row!=1000].dropna(axis=1).columns)"
   ]
  },
  {
   "cell_type": "markdown",
   "metadata": {},
   "source": [
    "# Labels distributions\n",
    "\n",
    "Here we plot some of the values from the labels file. We start with the state vector which has the values:\n",
    "\n",
    "$\\frac{q}{p_t}$, $\\phi$, $D$, $tanl$, and $z$\n",
    "\n",
    "where $tanl$ is the tangent of the \"dip\" angle or $tan(90^{\\circ}-\\theta)$\n",
    "\n",
    "These should look reasonble. Checking them makes sure there is not misalignment with the values in the labels file."
   ]
  },
  {
   "cell_type": "code",
   "execution_count": 22,
   "metadata": {},
   "outputs": [
    {
     "data": {
      "text/plain": [
       "array([<matplotlib.axes._subplots.AxesSubplot object at 0x7fa99c18c630>],\n",
       "      dtype=object)"
      ]
     },
     "execution_count": 22,
     "metadata": {},
     "output_type": "execute_result"
    },
    {
     "data": {
      "image/png": "[encoded data removed]",
      "text/plain": [
       "<Figure size 1440x720 with 6 Axes>"
      ]
     },
     "metadata": {
      "needs_background": "light"
     },
     "output_type": "display_data"
    },
    {
     "data": {
      "image/png": "[encoded data removed]",
      "text/plain": [
       "<Figure size 1440x216 with 3 Axes>"
      ]
     },
     "metadata": {
      "needs_background": "light"
     },
     "output_type": "display_data"
    }
   ],
   "source": [
    "import matplotlib.pyplot as plt\n",
    "\n",
    "# Plot all values from state vector\n",
    "h = labelsdf.hist(column=['q_over_pt','phi','D', 'tanl', 'z'], bins=100, figsize=(20.0,10.0))\n",
    "\n",
    "# Convert the dip angle and q_over_pt into theta and p and plot those as well\n",
    "theta = np.rad2deg(np.pi/2.0-np.arctan(labelsdf['tanl']))\n",
    "dftheta = pd.DataFrame(data=theta).rename(columns={'tanl':'theta'})\n",
    "\n",
    "pmag = -1.0/labelsdf['q_over_pt']/np.sin(np.deg2rad(theta))\n",
    "dfpmag = pd.DataFrame(data=pmag).rename(columns={0:'p'})\n",
    "\n",
    "fig, ax = plt.subplots(1,3, figsize=(20,3))\n",
    "dftheta.hist(ax=ax[0], column=['theta'], bins=np.linspace(0.0, 180.0, 100), color='green')\n",
    "dfpmag.hist(ax=ax[1], bins=np.linspace(0.0, 6.0, 100), color='purple')\n",
    "labelsdf.hist(ax=ax[2], column=['D'],bins=np.linspace(-10.0, 10.0, 100), color='red')"
   ]
  },
  {
   "cell_type": "markdown",
   "metadata": {},
   "source": [
    "### Uh-oh!\n",
    "So the plots look more or less reasonable. The first thing I notice though is that there is a tail in the $\\phi$ distribution that goes below $-\\pi$. This may indicate a problem. I also notice that $D$ is symmetric about zero with lots of negative numbers. I thought $D$ represented the $DOCA$ (=Distance Of Closest Approach) to the beam line which would make it positive definite. This may be a problem, or just a misunderstanding on my part.\n",
    "\n",
    "To track these down, I need to find some of the offending event numbers. (I knew there would be a good reason to include the event numbers!) Below I make a list of these and then print the values for the first one, but converted to a form that matches what is printed from the hd_dump utility in GlueX. This will let me confim I'm looking at the right track and have the correct numbers.\n",
    "\n",
    "When I do this and compare to the output of hd_dump, I can see that the values match up, except for x,y, and $\\phi$. The value of $\\phi$ printed there though looks to just be shifted by $2\\pi$ from what is shown here which probably means the value from the state vector has just not been forced into the $-\\pi<\\phi<\\pi$ range. Thus it is probably OK. It does raise a question though of whether we should force that into range before training, ...?\n",
    "\n",
    "The x and y values here don't match up exactly and I realize now that how I'm calculating them is incorrect. See below for more details."
   ]
  },
  {
   "cell_type": "code",
   "execution_count": 23,
   "metadata": {},
   "outputs": [
    {
     "name": "stdout",
     "output_type": "stream",
     "text": [
      "\n",
      " event 76: x=10.190670  y=-2.112871 z=167.680000 p=0.380735 theta=165.521366 phi=-191.713397 phi_shifted=168.286603\n",
      "\n"
     ]
    },
    {
     "data": {
      "text/html": [
       "<div>\n",
       "<style scoped>\n",
       "    .dataframe tbody tr th:only-of-type {\n",
       "        vertical-align: middle;\n",
       "    }\n",
       "\n",
       "    .dataframe tbody tr th {\n",
       "        vertical-align: top;\n",
       "    }\n",
       "\n",
       "    .dataframe thead th {\n",
       "        text-align: right;\n",
       "    }\n",
       "</style>\n",
       "<table border=\"1\" class=\"dataframe\">\n",
       "  <thead>\n",
       "    <tr style=\"text-align: right;\">\n",
       "      <th></th>\n",
       "      <th>event</th>\n",
       "      <th>q_over_pt</th>\n",
       "      <th>phi</th>\n",
       "      <th>tanl</th>\n",
       "      <th>D</th>\n",
       "      <th>z</th>\n",
       "      <th>cov_00</th>\n",
       "      <th>cov_01</th>\n",
       "      <th>cov_02</th>\n",
       "      <th>cov_03</th>\n",
       "      <th>...</th>\n",
       "      <th>cov_13</th>\n",
       "      <th>cov_14</th>\n",
       "      <th>cov_22</th>\n",
       "      <th>cov_23</th>\n",
       "      <th>cov_24</th>\n",
       "      <th>cov_33</th>\n",
       "      <th>cov_34</th>\n",
       "      <th>cov_44</th>\n",
       "      <th>chisq</th>\n",
       "      <th>Ndof</th>\n",
       "    </tr>\n",
       "  </thead>\n",
       "  <tbody>\n",
       "    <tr>\n",
       "      <th>31</th>\n",
       "      <td>76</td>\n",
       "      <td>-10.50520</td>\n",
       "      <td>-3.34603</td>\n",
       "      <td>-3.872670</td>\n",
       "      <td>-10.407400</td>\n",
       "      <td>167.6800</td>\n",
       "      <td>0.276198</td>\n",
       "      <td>0.000786</td>\n",
       "      <td>0.113564</td>\n",
       "      <td>-0.023070</td>\n",
       "      <td>...</td>\n",
       "      <td>-0.000332</td>\n",
       "      <td>0.002547</td>\n",
       "      <td>0.058944</td>\n",
       "      <td>-0.010479</td>\n",
       "      <td>-0.059451</td>\n",
       "      <td>0.003205</td>\n",
       "      <td>0.003629</td>\n",
       "      <td>1.03030</td>\n",
       "      <td>36.82480</td>\n",
       "      <td>2</td>\n",
       "    </tr>\n",
       "    <tr>\n",
       "      <th>198</th>\n",
       "      <td>185</td>\n",
       "      <td>-7.56953</td>\n",
       "      <td>-4.53779</td>\n",
       "      <td>0.539022</td>\n",
       "      <td>0.798042</td>\n",
       "      <td>58.4777</td>\n",
       "      <td>0.059209</td>\n",
       "      <td>0.005723</td>\n",
       "      <td>-0.005466</td>\n",
       "      <td>-0.078670</td>\n",
       "      <td>...</td>\n",
       "      <td>-0.015946</td>\n",
       "      <td>0.002682</td>\n",
       "      <td>0.001899</td>\n",
       "      <td>0.000668</td>\n",
       "      <td>-0.036656</td>\n",
       "      <td>0.228398</td>\n",
       "      <td>-0.071483</td>\n",
       "      <td>1.33238</td>\n",
       "      <td>13.46490</td>\n",
       "      <td>13</td>\n",
       "    </tr>\n",
       "    <tr>\n",
       "      <th>201</th>\n",
       "      <td>201</td>\n",
       "      <td>-9.48625</td>\n",
       "      <td>-3.47597</td>\n",
       "      <td>-3.460640</td>\n",
       "      <td>-3.113650</td>\n",
       "      <td>167.6800</td>\n",
       "      <td>0.109747</td>\n",
       "      <td>0.002810</td>\n",
       "      <td>0.033092</td>\n",
       "      <td>-0.026639</td>\n",
       "      <td>...</td>\n",
       "      <td>-0.011911</td>\n",
       "      <td>0.007930</td>\n",
       "      <td>0.020275</td>\n",
       "      <td>0.020585</td>\n",
       "      <td>-0.064834</td>\n",
       "      <td>0.169171</td>\n",
       "      <td>-0.098894</td>\n",
       "      <td>1.02514</td>\n",
       "      <td>13.27190</td>\n",
       "      <td>3</td>\n",
       "    </tr>\n",
       "    <tr>\n",
       "      <th>381</th>\n",
       "      <td>301</td>\n",
       "      <td>-9.97058</td>\n",
       "      <td>-4.10020</td>\n",
       "      <td>0.663135</td>\n",
       "      <td>5.371930</td>\n",
       "      <td>135.2610</td>\n",
       "      <td>0.210370</td>\n",
       "      <td>0.007189</td>\n",
       "      <td>-0.030794</td>\n",
       "      <td>-0.099540</td>\n",
       "      <td>...</td>\n",
       "      <td>-0.019835</td>\n",
       "      <td>-0.002884</td>\n",
       "      <td>0.006598</td>\n",
       "      <td>0.003561</td>\n",
       "      <td>-0.123747</td>\n",
       "      <td>0.249342</td>\n",
       "      <td>-0.153112</td>\n",
       "      <td>3.63999</td>\n",
       "      <td>6.05815</td>\n",
       "      <td>3</td>\n",
       "    </tr>\n",
       "    <tr>\n",
       "      <th>442</th>\n",
       "      <td>443</td>\n",
       "      <td>-9.47224</td>\n",
       "      <td>-3.43126</td>\n",
       "      <td>-0.469452</td>\n",
       "      <td>4.078260</td>\n",
       "      <td>97.7567</td>\n",
       "      <td>0.632716</td>\n",
       "      <td>0.058665</td>\n",
       "      <td>0.004211</td>\n",
       "      <td>-0.420473</td>\n",
       "      <td>...</td>\n",
       "      <td>-0.051909</td>\n",
       "      <td>-0.026877</td>\n",
       "      <td>0.001993</td>\n",
       "      <td>0.001876</td>\n",
       "      <td>-0.025784</td>\n",
       "      <td>0.427865</td>\n",
       "      <td>0.221025</td>\n",
       "      <td>1.71630</td>\n",
       "      <td>2.24292</td>\n",
       "      <td>1</td>\n",
       "    </tr>\n",
       "  </tbody>\n",
       "</table>\n",
       "<p>5 rows × 23 columns</p>\n",
       "</div>"
      ],
      "text/plain": [
       "     event  q_over_pt      phi      tanl          D         z    cov_00  \\\n",
       "31      76  -10.50520 -3.34603 -3.872670 -10.407400  167.6800  0.276198   \n",
       "198    185   -7.56953 -4.53779  0.539022   0.798042   58.4777  0.059209   \n",
       "201    201   -9.48625 -3.47597 -3.460640  -3.113650  167.6800  0.109747   \n",
       "381    301   -9.97058 -4.10020  0.663135   5.371930  135.2610  0.210370   \n",
       "442    443   -9.47224 -3.43126 -0.469452   4.078260   97.7567  0.632716   \n",
       "\n",
       "       cov_01    cov_02    cov_03  ...    cov_13    cov_14    cov_22  \\\n",
       "31   0.000786  0.113564 -0.023070  ... -0.000332  0.002547  0.058944   \n",
       "198  0.005723 -0.005466 -0.078670  ... -0.015946  0.002682  0.001899   \n",
       "201  0.002810  0.033092 -0.026639  ... -0.011911  0.007930  0.020275   \n",
       "381  0.007189 -0.030794 -0.099540  ... -0.019835 -0.002884  0.006598   \n",
       "442  0.058665  0.004211 -0.420473  ... -0.051909 -0.026877  0.001993   \n",
       "\n",
       "       cov_23    cov_24    cov_33    cov_34   cov_44     chisq  Ndof  \n",
       "31  -0.010479 -0.059451  0.003205  0.003629  1.03030  36.82480     2  \n",
       "198  0.000668 -0.036656  0.228398 -0.071483  1.33238  13.46490    13  \n",
       "201  0.020585 -0.064834  0.169171 -0.098894  1.02514  13.27190     3  \n",
       "381  0.003561 -0.123747  0.249342 -0.153112  3.63999   6.05815     3  \n",
       "442  0.001876 -0.025784  0.427865  0.221025  1.71630   2.24292     1  \n",
       "\n",
       "[5 rows x 23 columns]"
      ]
     },
     "execution_count": 23,
     "metadata": {},
     "output_type": "execute_result"
    }
   ],
   "source": [
    "# Select tracks with bad phi values\n",
    "baddf = labelsdf[labelsdf['phi']<-np.pi]\n",
    "\n",
    "# Convert into x,y,p,theta to make it easier to compare to what hd_dump prints\n",
    "event = baddf.iloc[[0]]['event']\n",
    "q_over_pt = baddf.iloc[[0]]['q_over_pt']\n",
    "tanl = baddf.iloc[[0]]['tanl']\n",
    "D = baddf.iloc[[0]]['D']\n",
    "phi = baddf.iloc[[0]]['phi']\n",
    "z = baddf.iloc[[0]]['z']\n",
    "\n",
    "x = D*np.cos(phi)\n",
    "y = D*np.sin(phi)\n",
    "theta = np.rad2deg(np.pi/2.0-np.arctan(baddf.iloc[[0]]['tanl']))\n",
    "p = -1.0/q_over_pt/np.sin(np.deg2rad(theta))\n",
    "phi_shifted = np.rad2deg(phi + 2.0*np.pi) # n.b. do this before converting phi to degrees!\n",
    "phi = np.rad2deg(phi)\n",
    "\n",
    "print('\\n event %d: x=%f  y=%f z=%f p=%f theta=%f phi=%f phi_shifted=%f\\n' % (event, x,y,z,p,theta,phi, phi_shifted))\n",
    "\n",
    "baddf.head()"
   ]
  },
  {
   "cell_type": "markdown",
   "metadata": {},
   "source": [
    "### What is \"D\" exactly?\n",
    "\n",
    "OK, so I had assumed that $D$ was the DOCA, but I realize now that $D$ and $z$ must somehow serve the roles of $x$ and $y$ in the forward parameterization. This is because the statevector needs 2 spacial coordinates and a 3-momentum. The $\\frac{q}{p_t}$, $tanl$, and $\\phi$ parameters are the 3-momentum. $D$ and $z$ serve as the spatial coordinates.\n",
    "\n",
    "So, for archival, here is the output of hd_dump for the event I am looking at. Note that since these numbers rely on the specific software version and event ordering, it could differ a little from above if I retrain the dataset.\n",
    "\n",
    "<pre>\n",
    "================================================================\n",
    "Event: 76\n",
    "DTrackTimeBased:\n",
    " PID:       Name:  q: x(cm): y(cm): z(cm): E(GeV):       t(ns): p(GeV/c): theta(deg): phi(deg): candidate:     chisq: Ndof:      FOM: Flags:\n",
    "--------------------------------------------------------------------------------------------------------------------------------------------\n",
    "   3    Electron  -1   -9.4    4.6  167.7  0.3807  1000000.000     0.381     165.521   168.287          1  36.824818     2  0.000000      2 \n",
    "   9         Pi-  -1   -9.4    4.6  167.7  0.4055  1000000.000     0.381     165.521   168.287          1  36.824818     2  0.000000      1 \n",
    "  12          K-  -1   -9.4    4.6  167.7  0.6234  1000000.000     0.381     165.521   168.287          1  36.824818     2  0.000000      2 \n",
    "  15  AntiProton  -1   -9.6    3.8  167.7  1.0504  1000000.000     0.472     166.066   171.305          1  27.066563     2  0.000001      1 \n",
    "   2    Positron  +1    0.0   -0.1   62.5  0.7962      -22.408     0.796      57.817  -169.354          2   9.622602    20  0.974510      0 \n",
    "   8         Pi+  +1    0.0   -0.1   62.5  0.8060      -22.408     0.794      57.843  -169.323          2   9.633388    20  0.974343      0 \n",
    "  11          K+  +1    0.0   -0.1   62.5  0.9350      -22.408     0.794      57.817  -169.338          2   9.898479    20  0.969976      0 \n",
    "  14      Proton  +1    0.0   -0.1   62.5  1.2328      -22.579     0.800      57.850  -169.362          2  10.211482    20  0.964173      0 \n",
    "</pre>\n",
    "\n",
    "This corresponds to an output from the previous cell that was:\n",
    "<pre>event 76: x=10.190670  y=-2.112871 z=167.680000 p=0.380735 theta=165.521366 phi=-191.713397 phi_shifted=168.286603</pre>\n",
    "\n",
    "So you can see that the x and y as I calculated them from $D$ and $\\phi$ do not match what what hd_dump says. OK. so this means I need to dig into the code a little. Here are some things I found:\n",
    "\n",
    "1. The DTrackTimeBased_factory fills in all of the DTrackingData part of the DTrackTimeBased object by copying it from DTrackFitter::GetFitParameters().The DTrackingData object inherits from DKinematicData which is where the 3-momentum and 3-position info is kept. The state vector parameters themselves are stored independently in the m_TrackingStateVector member of DTrackingData. Thus, when we grab the state vector parameters, we are not accessing the DKinematicData part of the DTrackTimeBased object at all.\n",
    "\n",
    "2. The state vector parameters are set from DTrackFitterKalmanSIMD.cc::970 via a call to fit_params.setTrackingStateVector. The 3-momentum and 3-position are also set in the same routine in lines 916,917 using the fit_params.setPosition() and fit_params.setMomentum().\n",
    "\n",
    "3. The position is obtained from the DTrackFitterKalmanSIMD::GetPosition() method (called from line 913 of DTrackFitterKalmanSIMD.cc) which itself is a trival copy of the x_,y_,z_ members of the DTrackFitterKalmanSIMD class.\n",
    "\n",
    "4. The value $D_$ is set in DTrackFitterKalmanSIMD.cc at lines 6764, 7063, and 7301 which all have this (n.b. EPS is defined as 3E-8):\n",
    "\n",
    "`D_=sqrt(dx*dx+dy*dy)+EPS;`\n",
    "\n",
    "The dx and dy values are derived from $x_$ and $y_$, but shifted by a beam_pos 2-vector. The thing to notice though is that $D_$ as defined in this line is positive definite which means something is not really right with our negative values.\n",
    "\n",
    "Further debugging is going to dig futher into the weeds so it is probably best to just ask Simon at this point whether $D$ can be negative and how to convert $D$, $z$ to $x$, $y$.\n"
   ]
  },
  {
   "cell_type": "code",
   "execution_count": 24,
   "metadata": {},
   "outputs": [
    {
     "name": "stdout",
     "output_type": "stream",
     "text": [
      "\n",
      " event 76: x=2.112871  y=10.190670 phi=168.286603 phi_hd_dump=-26.075356\n",
      "\n"
     ]
    }
   ],
   "source": [
    "\n",
    "phi_hd_dump = np.rad2deg(np.arctan(4.6/(-9.4)))\n",
    "phi = np.deg2rad(phi)\n",
    "x = D*np.cos(np.pi/2.0+phi)\n",
    "y = D*np.sin(np.pi/2.0+phi)\n",
    "phi = np.rad2deg(phi+np.pi*2.0)\n",
    "\n",
    "print('\\n event %d: x=%f  y=%f phi=%f phi_hd_dump=%f\\n' % (event, x,y,phi, phi_hd_dump))\n"
   ]
  },
  {
   "cell_type": "markdown",
   "metadata": {},
   "source": [
    "OK. Broke down and e-mailed Simon. He responded quickly with:\n",
    "\n",
    "*\"D is actually a signed quantity related to a helical approximation for the trajectory; the sign depends on whether the beam line point is within or without the circle projection of the track.\"*\n",
    "\n",
    "So apparently $D$ is allowed to have negative values. Also, it sounds like it does represent distance from the beamline so one might expect the width to be roughly the order of the beam width at the target. Here's one more plot below zoomed in so the width can be eyeballed. Looks like maybe $\\sigma=0.25cm$ which would be about a 5mm diameter beam. The size of the collimater hole is 5mm so that seems to check out."
   ]
  },
  {
   "cell_type": "code",
   "execution_count": 25,
   "metadata": {},
   "outputs": [
    {
     "data": {
      "text/plain": [
       "array([[<matplotlib.axes._subplots.AxesSubplot object at 0x7fa99d6c69b0>]],\n",
       "      dtype=object)"
      ]
     },
     "execution_count": 25,
     "metadata": {},
     "output_type": "execute_result"
    },
    {
     "data": {
      "image/png": "[encoded data removed]",
      "text/plain": [
       "<Figure size 432x288 with 1 Axes>"
      ]
     },
     "metadata": {
      "needs_background": "light"
     },
     "output_type": "display_data"
    }
   ],
   "source": [
    "labelsdf.hist( column=['D'],bins=np.linspace(-1.0, 1.0, 100), color='red')"
   ]
  },
  {
   "cell_type": "markdown",
   "metadata": {},
   "source": [
    "## Start Time\n",
    "\n",
    "Another thing to look at here is the start time from the features file. The file has 4 slots for start times coming from the start counter, TOF, BCAL, and FCAL. It also has 4 slots containing a 0 or 1 that indicate whether each has a valid value. Ideally, all of the valid times will be passed in and the network will decide how to weight each one in inference. In reality, all of the times are not that easily available from the DTrackTimeBased object. Only the one it chose to use. Thus, only one of the slots is filled in. We plot up each of them though just to make sure they are reasonable values."
   ]
  },
  {
   "cell_type": "code",
   "execution_count": 30,
   "metadata": {},
   "outputs": [
    {
     "data": {
      "text/plain": [
       "array([<matplotlib.axes._subplots.AxesSubplot object at 0x7fa99aa93f28>],\n",
       "      dtype=object)"
      ]
     },
     "execution_count": 30,
     "metadata": {},
     "output_type": "execute_result"
    },
    {
     "data": {
      "image/png": "[encoded data removed]",
      "text/plain": [
       "<Figure size 1440x360 with 4 Axes>"
      ]
     },
     "metadata": {
      "needs_background": "light"
     },
     "output_type": "display_data"
    }
   ],
   "source": [
    "fig, ax = plt.subplots(2,2, figsize=(20,5))\n",
    "df.hist(ax=ax[0,0], column=['t_start_cntr'],bins=np.linspace(-50.0, 50.0, 100), color='red')\n",
    "df.hist(ax=ax[0,1], column=['t_tof'       ],bins=np.linspace(-50.0, 50.0, 100), color='green')\n",
    "df.hist(ax=ax[1,0], column=['t_bcal'      ],bins=np.linspace(-50.0, 50.0, 100), color='blue')\n",
    "df.hist(ax=ax[1,1], column=['t_fcal'      ],bins=np.linspace(-50.0, 50.0, 100), color='grey')"
   ]
  },
  {
   "cell_type": "markdown",
   "metadata": {},
   "source": [
    "OK. So those don't look crazy. I'm not 100% sure what they should look like, but I would have guessed something peaked at zero and with a width less than 20ns. (Of course that is easy to say after I made the plots.) "
   ]
  },
  {
   "cell_type": "code",
   "execution_count": null,
   "metadata": {},
   "outputs": [],
   "source": []
  }
 ],
 "metadata": {
  "kernelspec": {
   "display_name": "Python 3",
   "language": "python",
   "name": "python3"
  },
  "language_info": {
   "codemirror_mode": {
    "name": "ipython",
    "version": 3
   },
   "file_extension": ".py",
   "mimetype": "text/x-python",
   "name": "python",
   "nbconvert_exporter": "python",
   "pygments_lexer": "ipython3",
   "version": "3.7.3"
  }
 },
 "nbformat": 4,
 "nbformat_minor": 4
}
